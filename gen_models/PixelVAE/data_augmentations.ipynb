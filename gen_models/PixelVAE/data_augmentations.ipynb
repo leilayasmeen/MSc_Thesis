{
 "cells": [
  {
   "cell_type": "code",
   "execution_count": 1,
   "metadata": {},
   "outputs": [
    {
     "name": "stderr",
     "output_type": "stream",
     "text": [
      "Using TensorFlow backend.\n"
     ]
    },
    {
     "name": "stdout",
     "output_type": "stream",
     "text": [
      "(50000, 3, 32, 32)\n"
     ]
    }
   ],
   "source": [
    "import os, sys\n",
    "sys.path.append(os.getcwd())\n",
    "\n",
    "import numpy as np\n",
    "import tensorflow as tf\n",
    "import scipy.misc\n",
    "import imageio\n",
    "from imageio import imwrite\n",
    "from scipy.misc import imsave, imread\n",
    "\n",
    "import keras\n",
    "from keras.datasets import mnist, cifar10\n",
    "\n",
    "\n",
    "(x_train, y_train), (x_test, y_test) = mnist.load_data()\n",
    "(x_traincifar, y_traincifar), (x_testcifar, y_testcifar) = cifar10.load_data()\n",
    "x_traincifar = x_traincifar.transpose(0,3,1,2)\n",
    "print(x_traincifar.shape)"
   ]
  },
  {
   "cell_type": "code",
   "execution_count": 2,
   "metadata": {},
   "outputs": [
    {
     "name": "stdout",
     "output_type": "stream",
     "text": [
      "(1,)\n",
      "(2,)\n"
     ]
    }
   ],
   "source": [
    "p_set = np.zeros(1)\n",
    "print(p_set.shape)\n",
    "p_new = np.append(p_set,0.1)\n",
    "print(p_new.shape)"
   ]
  },
  {
   "cell_type": "code",
   "execution_count": 3,
   "metadata": {},
   "outputs": [],
   "source": [
    "x1 = np.load('/Users/wildflowerlyi/Desktop/x_augmentation_array_1.npy')\n",
    "y1 = np.load('/Users/wildflowerlyi/Desktop/y_augmentation_array_1.npy')\n",
    "x2 = np.load('/Users/wildflowerlyi/Desktop/x_augmentation_array_2.npy')\n",
    "y2 = np.load('/Users/wildflowerlyi/Desktop/y_augmentation_array_2.npy')\n",
    "x3 = np.load('/Users/wildflowerlyi/Desktop/x_augmentation_array_3.npy')\n",
    "y3 = np.load('/Users/wildflowerlyi/Desktop/y_augmentation_array_3.npy')\n",
    "x4 = np.load('/Users/wildflowerlyi/Desktop/x_augmentation_array_4.npy')\n",
    "y4 = np.load('/Users/wildflowerlyi/Desktop/y_augmentation_array_4.npy')\n",
    "x5 = np.load('/Users/wildflowerlyi/Desktop/x_augmentation_array_5.npy')\n",
    "y5 = np.load('/Users/wildflowerlyi/Desktop/y_augmentation_array_5.npy')\n",
    "x6 = np.load('/Users/wildflowerlyi/Desktop/x_augmentation_array_6.npy')\n",
    "y6 = np.load('/Users/wildflowerlyi/Desktop/y_augmentation_array_6.npy')\n",
    "x7 = np.load('/Users/wildflowerlyi/Desktop/x_augmentation_array_7.npy')\n",
    "y7 = np.load('/Users/wildflowerlyi/Desktop/y_augmentation_array_7.npy')\n",
    "x8 = np.load('/Users/wildflowerlyi/Desktop/x_augmentation_array_8.npy')\n",
    "y8 = np.load('/Users/wildflowerlyi/Desktop/y_augmentation_array_8.npy')\n",
    "x9 = np.load('/Users/wildflowerlyi/Desktop/x_augmentation_array_9.npy')\n",
    "y9 = np.load('/Users/wildflowerlyi/Desktop/y_augmentation_array_9.npy')\n",
    "x10 = np.load('/Users/wildflowerlyi/Desktop/x_augmentation_array_10.npy')\n",
    "y10 = np.load('/Users/wildflowerlyi/Desktop/y_augmentation_array_10.npy')\n",
    "x11 = np.load('/Users/wildflowerlyi/Desktop/x_augmentation_array_11.npy')\n",
    "y11 = np.load('/Users/wildflowerlyi/Desktop/y_augmentation_array_11.npy')\n",
    "#TODO: change original image files to round"
   ]
  },
  {
   "cell_type": "code",
   "execution_count": 21,
   "metadata": {},
   "outputs": [
    {
     "name": "stdout",
     "output_type": "stream",
     "text": [
      "(4500, 3, 32, 32)\n",
      "(4500, 1, 10)\n"
     ]
    }
   ],
   "source": [
    "x_full = np.concatenate((x1,x2,x3,x4,x5,x6,x7,x8,x9,x10,x11), axis=0)\n",
    "y_full = np.concatenate((y1,y2,y3,y4,y5,y6,y7,y8,y9,y10,y11), axis=0)\n",
    "print(x_full.shape)\n",
    "print(y_full.shape)"
   ]
  },
  {
   "cell_type": "code",
   "execution_count": 27,
   "metadata": {},
   "outputs": [],
   "source": [
    "x_augmentation_set = np.around(x_full, 1)\n",
    "x_augmentation_set[1,:]\n",
    "y_augmentation_set = np.around(y_full, 1)\n",
    "y_augmentation_set[1,:]\n",
    "np.save('/Users/wildflowerlyi/Desktop/x_augmentation_array.npy', x_augmentation_set)\n",
    "np.save('/Users/wildflowerlyi/Desktop/y_augmentation_array.npy', y_augmentation_set)"
   ]
  },
  {
   "cell_type": "code",
   "execution_count": 46,
   "metadata": {},
   "outputs": [
    {
     "name": "stdout",
     "output_type": "stream",
     "text": [
      "(2250, 3, 32, 32)\n",
      "(2250, 1, 10)\n"
     ]
    }
   ],
   "source": [
    "x_2250 = np.concatenate((x1,x2,x3,x4,x5,x6,x7), axis=0)\n",
    "y_2250 = np.concatenate((y1,y2,y3,y4,y5,y6,y7), axis=0)\n",
    "x_2250 = x_2250[0:2250,:]\n",
    "y_2250 = y_2250[0:2250,:]\n",
    "print(x_2250.shape)\n",
    "print(y_2250.shape)\n",
    "x_augmentation_set_2250 = np.around(x_2250, 1)\n",
    "y_augmentation_set_2250 = np.around(y_2250, 1)\n",
    "np.save('/Users/wildflowerlyi/Desktop/x_augmentation_array_2250.npy', x_augmentation_set_2250)\n",
    "np.save('/Users/wildflowerlyi/Desktop/y_augmentation_array_2250.npy', y_augmentation_set_2250)"
   ]
  },
  {
   "cell_type": "code",
   "execution_count": 4,
   "metadata": {},
   "outputs": [
    {
     "name": "stdout",
     "output_type": "stream",
     "text": [
      "(1125, 3, 32, 32)\n",
      "(1125, 1, 10)\n"
     ]
    }
   ],
   "source": [
    "x_1125 = np.concatenate((x1,x2,x3,x4), axis=0)\n",
    "y_1125 = np.concatenate((y1,y2,y3,y4), axis=0)\n",
    "x_1125 = x_1125[0:1125,:]\n",
    "y_1125 = y_1125[0:1125,:]\n",
    "print(x_1125.shape)\n",
    "print(y_1125.shape)\n",
    "x_augmentation_set_1125 = np.around(x_1125, 1)\n",
    "y_augmentation_set_1125 = np.around(y_1125, 1)\n",
    "np.save('/Users/wildflowerlyi/Desktop/x_augmentation_array_1125.npy', x_augmentation_set_1125)\n",
    "np.save('/Users/wildflowerlyi/Desktop/y_augmentation_array_1125.npy', y_augmentation_set_1125)"
   ]
  },
  {
   "cell_type": "code",
   "execution_count": 5,
   "metadata": {},
   "outputs": [
    {
     "name": "stdout",
     "output_type": "stream",
     "text": [
      "(560, 3, 32, 32)\n",
      "(560, 1, 10)\n"
     ]
    }
   ],
   "source": [
    "x_560 = np.concatenate((x1,x2), axis=0)\n",
    "y_560 = np.concatenate((y1,y2), axis=0)\n",
    "x_560 = x_560[0:560,:]\n",
    "y_560 = y_560[0:560,:]\n",
    "print(x_560.shape)\n",
    "print(y_560.shape)\n",
    "x_augmentation_set_560 = np.around(x_560, 1)\n",
    "y_augmentation_set_560 = np.around(y_560, 1)\n",
    "np.save('/Users/wildflowerlyi/Desktop/x_augmentation_array_560.npy', x_augmentation_set_560)\n",
    "np.save('/Users/wildflowerlyi/Desktop/y_augmentation_array_560.npy', y_augmentation_set_560)"
   ]
  },
  {
   "cell_type": "code",
   "execution_count": 32,
   "metadata": {},
   "outputs": [
    {
     "name": "stdout",
     "output_type": "stream",
     "text": [
      "(4500, 3, 32, 32)\n",
      "(4500, 1, 10)\n",
      "[[0.  0.  0.  0.  0.  0.6 0.4 0.  0.  0. ]]\n"
     ]
    },
    {
     "data": {
      "text/plain": [
       "array([[0. , 0. , 0. , 0. , 0. , 0.6, 0.4, 0. , 0. , 0. ]])"
      ]
     },
     "execution_count": 32,
     "metadata": {},
     "output_type": "execute_result"
    }
   ],
   "source": [
    "print(x_augmentation_set.shape)\n",
    "print(y_augmentation_set.shape)\n",
    "print(y_augmentation_set[322,:])\n",
    "np.around(y_augmentation_set[322,:],1)"
   ]
  },
  {
   "cell_type": "code",
   "execution_count": 33,
   "metadata": {},
   "outputs": [
    {
     "name": "stdout",
     "output_type": "stream",
     "text": [
      "(10000, 1)\n",
      "(10000, 32, 32, 3)\n",
      "(10000, 10)\n",
      "(50000, 10)\n"
     ]
    }
   ],
   "source": [
    "print(y_testcifar.shape)\n",
    "print(x_testcifar.shape)\n",
    "y_testcifar2 = keras.utils.to_categorical(y_testcifar, 10)\n",
    "y_traincifar2 = keras.utils.to_categorical(y_traincifar, 10)\n",
    "print(y_testcifar2.shape)\n",
    "print(y_traincifar2.shape)"
   ]
  },
  {
   "cell_type": "code",
   "execution_count": 25,
   "metadata": {},
   "outputs": [
    {
     "data": {
      "text/plain": [
       "(18, 10)"
      ]
     },
     "execution_count": 25,
     "metadata": {},
     "output_type": "execute_result"
    }
   ],
   "source": [
    "y_augmentation_set2 = y_augmentation_set.reshape(-1,10)\n",
    "y_augmentation_set2.shape"
   ]
  },
  {
   "cell_type": "code",
   "execution_count": 32,
   "metadata": {},
   "outputs": [
    {
     "name": "stdout",
     "output_type": "stream",
     "text": [
      "(50018, 10)\n",
      "[0.1        0.         0.         0.         0.         0.\n",
      " 0.         0.89999998 0.         0.        ]\n"
     ]
    }
   ],
   "source": [
    "x_total = np.concatenate((x_traincifar, x_augmentation_set), axis=0)\n",
    "y_total = np.concatenate((y_traincifar2, y_augmentation_set2), axis=0)\n",
    "print(y_total.shape)\n",
    "print(y_total[50017,:])"
   ]
  },
  {
   "cell_type": "code",
   "execution_count": null,
   "metadata": {},
   "outputs": [],
   "source": [
    "#x_total.shape\n",
    "xrange(2)"
   ]
  },
  {
   "cell_type": "code",
   "execution_count": null,
   "metadata": {},
   "outputs": [],
   "source": [
    "# READING IN AUGMENTATIONS TO TRAIN NEURAL NETWORKS: FINAL\n",
    "# (1) Read in x and y augmentations as new_x and new_y\n",
    "# (2) Transpose new_x = new_x.transpose(0, 2, 3, 1)\n",
    "#     x_augmented = np.append(x_train, new_x, axis=0)\n",
    "#     y_augmented = np.append(y_train, new_y, axis=0)\n",
    "\n",
    "# Add the below text at the beginning of train_cifar10 files in each directory. Make sure the augmented files are \n",
    "# in each of the folders resnet_cifar, resnet_wide, resnet_densenet"
   ]
  },
  {
   "cell_type": "code",
   "execution_count": null,
   "metadata": {},
   "outputs": [],
   "source": [
    "horse = imread('/Users/wildflowerlyi/Desktop/original_4.png')"
   ]
  },
  {
   "cell_type": "code",
   "execution_count": null,
   "metadata": {},
   "outputs": [],
   "source": [
    "horse.shape"
   ]
  },
  {
   "cell_type": "code",
   "execution_count": null,
   "metadata": {},
   "outputs": [],
   "source": [
    "np.save('/Users/wildflowerlyi/Desktop/horsearray.npy', horse)"
   ]
  },
  {
   "cell_type": "code",
   "execution_count": null,
   "metadata": {},
   "outputs": [],
   "source": [
    "horsetest = np.load('/Users/wildflowerlyi/Desktop/horsearray.npy')"
   ]
  },
  {
   "cell_type": "code",
   "execution_count": null,
   "metadata": {},
   "outputs": [],
   "source": [
    "horsetest.shape"
   ]
  },
  {
   "cell_type": "code",
   "execution_count": 11,
   "metadata": {},
   "outputs": [],
   "source": [
    "import sklearn\n",
    "from sklearn.model_selection import train_test_split\n",
    "seed = 333\n",
    "x_train45, x_val, y_train45, y_val = train_test_split(x_traincifar, y_traincifar, test_size=0.1, random_state=seed)  # random_state = seed"
   ]
  },
  {
   "cell_type": "code",
   "execution_count": 15,
   "metadata": {},
   "outputs": [
    {
     "name": "stdout",
     "output_type": "stream",
     "text": [
      "(3, 32, 32)\n",
      "(1, 3, 32, 32)\n"
     ]
    }
   ],
   "source": [
    "print(x_train45[1,:].shape)\n",
    "print(x_train45[1,:].reshape(1, 3, 32, 32).shape)"
   ]
  },
  {
   "cell_type": "code",
   "execution_count": 4,
   "metadata": {},
   "outputs": [
    {
     "data": {
      "text/plain": [
       "(45000, 1)"
      ]
     },
     "execution_count": 4,
     "metadata": {},
     "output_type": "execute_result"
    }
   ],
   "source": [
    "y_train45.shape"
   ]
  },
  {
   "cell_type": "code",
   "execution_count": 15,
   "metadata": {},
   "outputs": [
    {
     "data": {
      "text/plain": [
       "(2, 4477, 1)"
      ]
     },
     "execution_count": 15,
     "metadata": {},
     "output_type": "execute_result"
    }
   ],
   "source": [
    "idx = np.where(np.equal(3,y_train45))\n",
    "y_subset = y_train45[idx,:]\n",
    "y_subset.shape"
   ]
  },
  {
   "cell_type": "code",
   "execution_count": 16,
   "metadata": {},
   "outputs": [
    {
     "name": "stdout",
     "output_type": "stream",
     "text": [
      "(array([    8,     9,    18, ..., 44974, 44987, 44998]), array([0, 0, 0, ..., 0, 0, 0]))\n",
      "(4477,)\n",
      "(4477,)\n"
     ]
    }
   ],
   "source": [
    "print(idx)\n",
    "print(idx[0].shape)\n",
    "print(idx[1].shape)"
   ]
  },
  {
   "cell_type": "code",
   "execution_count": 17,
   "metadata": {},
   "outputs": [
    {
     "name": "stdout",
     "output_type": "stream",
     "text": [
      "[0 0 0 0 0 0 0 0 0]\n"
     ]
    }
   ],
   "source": [
    "print(idx[1][6:15])"
   ]
  },
  {
   "cell_type": "code",
   "execution_count": 103,
   "metadata": {},
   "outputs": [],
   "source": [
    "idx1 = np.asarray(np.where(np.equal(0, y_train45))[0])\n",
    "x_trainsubset1 = x_train45[idx1,:]\n",
    "y_trainsubset1 = y_train45[idx1,:]\n",
    "x_trainsubset1 = x_trainsubset1.reshape(-1, 3, 32, 32) \n",
    "y_trainsubset1 = y_trainsubset1.reshape(-1, 1)"
   ]
  },
  {
   "cell_type": "code",
   "execution_count": 7,
   "metadata": {},
   "outputs": [
    {
     "data": {
      "text/plain": [
       "[0, 1, 2, 3, 4, 5, 6, 7, 8]"
      ]
     },
     "execution_count": 7,
     "metadata": {},
     "output_type": "execute_result"
    }
   ],
   "source": [
    "range(9)"
   ]
  },
  {
   "cell_type": "code",
   "execution_count": 104,
   "metadata": {},
   "outputs": [
    {
     "name": "stdout",
     "output_type": "stream",
     "text": [
      "(4477, 3, 32, 32)\n",
      "(4477, 1)\n",
      "4477\n",
      "(45000, 3, 32, 32)\n"
     ]
    }
   ],
   "source": [
    "print(x_trainsubset1.shape)\n",
    "print(y_trainsubset1.shape)\n",
    "print(x_trainsubset1.shape[0])\n",
    "print(x_train45.shape)"
   ]
  },
  {
   "cell_type": "code",
   "execution_count": 94,
   "metadata": {},
   "outputs": [
    {
     "name": "stdout",
     "output_type": "stream",
     "text": [
      "[1847]\n",
      "(1, 3, 32, 32)\n",
      "[[6]]\n"
     ]
    }
   ],
   "source": [
    "import random\n",
    "index = random.sample(range(x_trainsubset1.shape[0]),1)\n",
    "print(index)\n",
    "print(x_trainsubset1[index,:].shape)\n",
    "print(y_trainsubset1[index,])"
   ]
  },
  {
   "cell_type": "code",
   "execution_count": 95,
   "metadata": {},
   "outputs": [],
   "source": [
    "def color_grid_vis(X, nh, nw, save_path):\n",
    "    # from github.com/Newmu\n",
    "    X = X.transpose(0,2,3,1)\n",
    "    h, w = X[0].shape[:2]\n",
    "    img = np.zeros((h*nh, w*nw, 3))\n",
    "    for n, x in enumerate(X):\n",
    "        j = n/nw\n",
    "        i = n%nw\n",
    "        img[j*h:j*h+h, i*w:i*w+w, :] = x\n",
    "    imwrite(save_path, img)"
   ]
  },
  {
   "cell_type": "code",
   "execution_count": 96,
   "metadata": {},
   "outputs": [
    {
     "name": "stderr",
     "output_type": "stream",
     "text": [
      "WARNING:root:Lossy conversion from float64 to uint8. Range [5.0, 239.0]. Convert image to uint8 prior to saving to suppress this warning.\n"
     ]
    }
   ],
   "source": [
    "color_grid_vis(x_trainsubset1[index,:],1,1,'/Users/wildflowerlyi/Desktop/test.png')"
   ]
  },
  {
   "cell_type": "code",
   "execution_count": 107,
   "metadata": {},
   "outputs": [
    {
     "name": "stdout",
     "output_type": "stream",
     "text": [
      "[[0]\n",
      " [0]\n",
      " [0]\n",
      " [0]\n",
      " [0]\n",
      " [0]\n",
      " [0]\n",
      " [0]\n",
      " [0]\n",
      " [0]\n",
      " [0]\n",
      " [0]\n",
      " [0]\n",
      " [0]\n",
      " [0]\n",
      " [0]\n",
      " [0]\n",
      " [0]\n",
      " [0]\n",
      " [0]\n",
      " [0]\n",
      " [0]\n",
      " [0]\n",
      " [0]\n",
      " [0]\n",
      " [0]\n",
      " [0]\n",
      " [0]\n",
      " [0]\n",
      " [0]\n",
      " [0]\n",
      " [0]\n",
      " [0]\n",
      " [0]\n",
      " [0]\n",
      " [0]\n",
      " [0]\n",
      " [0]\n",
      " [0]\n",
      " [0]\n",
      " [0]\n",
      " [0]\n",
      " [0]\n",
      " [0]\n",
      " [0]\n",
      " [0]\n",
      " [0]\n",
      " [0]\n",
      " [0]\n",
      " [0]\n",
      " [0]\n",
      " [0]\n",
      " [0]\n",
      " [0]\n",
      " [0]\n",
      " [0]\n",
      " [0]\n",
      " [0]\n",
      " [0]\n",
      " [0]\n",
      " [0]\n",
      " [0]\n",
      " [0]\n",
      " [0]\n",
      " [0]\n",
      " [0]\n",
      " [0]\n",
      " [0]\n",
      " [0]\n",
      " [0]\n",
      " [0]\n",
      " [0]\n",
      " [0]\n",
      " [0]\n",
      " [0]\n",
      " [0]\n",
      " [0]\n",
      " [0]\n",
      " [0]\n",
      " [0]\n",
      " [0]\n",
      " [0]\n",
      " [0]\n",
      " [0]\n",
      " [0]\n",
      " [0]\n",
      " [0]\n",
      " [0]\n",
      " [0]\n",
      " [0]\n",
      " [0]\n",
      " [0]\n",
      " [0]\n",
      " [0]\n",
      " [0]\n",
      " [0]\n",
      " [0]\n",
      " [0]\n",
      " [0]\n",
      " [0]]\n"
     ]
    }
   ],
   "source": [
    "print(y_trainsubset1[4200:4300])"
   ]
  },
  {
   "cell_type": "code",
   "execution_count": null,
   "metadata": {},
   "outputs": [],
   "source": []
  }
 ],
 "metadata": {
  "kernelspec": {
   "display_name": "Python 2",
   "language": "python",
   "name": "python2"
  },
  "language_info": {
   "codemirror_mode": {
    "name": "ipython",
    "version": 2
   },
   "file_extension": ".py",
   "mimetype": "text/x-python",
   "name": "python",
   "nbconvert_exporter": "python",
   "pygments_lexer": "ipython2",
   "version": "2.7.15"
  }
 },
 "nbformat": 4,
 "nbformat_minor": 2
}
