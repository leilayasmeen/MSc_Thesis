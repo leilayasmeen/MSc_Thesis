{
 "cells": [
  {
   "cell_type": "code",
   "execution_count": 61,
   "metadata": {},
   "outputs": [],
   "source": [
    "import os, sys\n",
    "sys.path.append(os.getcwd())\n",
    "\n",
    "import tflib as lib\n",
    "import tflib.sampling_loop\n",
    "import tflib.ops.kl_unit_gaussian\n",
    "import tflib.ops.kl_gaussian_gaussian\n",
    "import tflib.ops.conv2d\n",
    "import tflib.ops.linear\n",
    "import tflib.ops.batchnorm\n",
    "import tflib.ops.embedding\n",
    "\n",
    "import numpy as np\n",
    "import tensorflow as tf\n",
    "import scipy.misc\n",
    "from scipy.misc import imsave, imread\n",
    "\n",
    "import os\n",
    "import urllib\n",
    "import gzip\n",
    "import cPickle as pickle\n",
    "\n",
    "import time\n",
    "import functools\n",
    "\n",
    "DATASET = 'mnist_256' # mnist_256"
   ]
  },
  {
   "cell_type": "code",
   "execution_count": 62,
   "metadata": {},
   "outputs": [],
   "source": [
    "data = urllib.urlretrieve('http://www.iro.umontreal.ca/~lisa/deep/data/mnist/mnist.pkl.gz', 'mnist_test.gz')[0]\n",
    "\n",
    "with gzip.open(data, 'rb') as f:\n",
    "    train_data, dev_data, test_data = pickle.load(f)"
   ]
  },
  {
   "cell_type": "code",
   "execution_count": 64,
   "metadata": {},
   "outputs": [
    {
     "name": "stdout",
     "output_type": "stream",
     "text": [
      "[ 0.          0.          0.          0.          0.          0.          0.\n",
      "  0.          0.          0.          0.          0.          0.          0.\n",
      "  0.          0.          0.          0.          0.          0.          0.\n",
      "  0.          0.          0.          0.          0.          0.          0.\n",
      "  0.          0.          0.          0.          0.          0.          0.\n",
      "  0.          0.          0.          0.          0.          0.          0.\n",
      "  0.          0.          0.          0.          0.          0.          0.\n",
      "  0.          0.          0.          0.          0.          0.          0.\n",
      "  0.          0.          0.          0.          0.          0.          0.\n",
      "  0.          0.          0.          0.          0.          0.          0.\n",
      "  0.          0.          0.          0.          0.          0.          0.\n",
      "  0.          0.          0.          0.          0.          0.          0.\n",
      "  0.          0.          0.          0.          0.          0.          0.\n",
      "  0.          0.          0.          0.          0.          0.          0.\n",
      "  0.          0.          0.          0.          0.          0.          0.\n",
      "  0.          0.          0.          0.          0.          0.          0.\n",
      "  0.          0.          0.          0.          0.          0.          0.\n",
      "  0.          0.          0.          0.          0.          0.          0.\n",
      "  0.          0.19921875  0.62109375  0.98828125  0.62109375  0.1953125   0.\n",
      "  0.          0.          0.          0.          0.          0.          0.\n",
      "  0.          0.          0.          0.          0.          0.          0.\n",
      "  0.          0.          0.          0.          0.          0.          0.\n",
      "  0.1875      0.9296875   0.984375    0.984375    0.984375    0.92578125\n",
      "  0.          0.          0.          0.          0.          0.          0.\n",
      "  0.          0.          0.          0.          0.          0.          0.\n",
      "  0.          0.          0.          0.          0.          0.          0.\n",
      "  0.2109375   0.88671875  0.98828125  0.984375    0.93359375  0.91015625\n",
      "  0.984375    0.22265625  0.0234375   0.          0.          0.          0.\n",
      "  0.          0.          0.          0.          0.          0.          0.\n",
      "  0.          0.          0.          0.          0.          0.          0.0390625\n",
      "  0.234375    0.875       0.984375    0.98828125  0.984375    0.7890625\n",
      "  0.328125    0.984375    0.98828125  0.4765625   0.          0.          0.\n",
      "  0.          0.          0.          0.          0.          0.          0.\n",
      "  0.          0.          0.          0.          0.          0.          0.\n",
      "  0.63671875  0.984375    0.984375    0.984375    0.98828125  0.984375\n",
      "  0.984375    0.375       0.73828125  0.98828125  0.65234375  0.          0.\n",
      "  0.          0.          0.          0.          0.          0.          0.\n",
      "  0.          0.          0.          0.          0.          0.          0.\n",
      "  0.19921875  0.9296875   0.98828125  0.98828125  0.7421875   0.4453125\n",
      "  0.98828125  0.890625    0.18359375  0.30859375  0.99609375  0.65625     0.\n",
      "  0.          0.          0.          0.          0.          0.          0.\n",
      "  0.          0.          0.          0.          0.          0.          0.\n",
      "  0.1875      0.9296875   0.984375    0.984375    0.69921875  0.046875\n",
      "  0.29296875  0.47265625  0.08203125  0.          0.          0.98828125\n",
      "  0.94921875  0.1953125   0.          0.          0.          0.          0.\n",
      "  0.          0.          0.          0.          0.          0.          0.\n",
      "  0.          0.1484375   0.64453125  0.98828125  0.91015625  0.8125\n",
      "  0.328125    0.          0.          0.          0.          0.          0.\n",
      "  0.98828125  0.984375    0.64453125  0.          0.          0.          0.\n",
      "  0.          0.          0.          0.          0.          0.          0.\n",
      "  0.          0.02734375  0.6953125   0.984375    0.9375      0.27734375\n",
      "  0.07421875  0.109375    0.          0.          0.          0.          0.\n",
      "  0.          0.98828125  0.984375    0.76171875  0.          0.          0.\n",
      "  0.          0.          0.          0.          0.          0.          0.\n",
      "  0.          0.          0.22265625  0.984375    0.984375    0.24609375\n",
      "  0.          0.          0.          0.          0.          0.          0.\n",
      "  0.          0.          0.98828125  0.984375    0.76171875  0.          0.\n",
      "  0.          0.          0.          0.          0.          0.          0.\n",
      "  0.          0.          0.          0.7734375   0.98828125  0.7421875   0.\n",
      "  0.          0.          0.          0.          0.          0.          0.\n",
      "  0.          0.          0.99609375  0.98828125  0.765625    0.          0.\n",
      "  0.          0.          0.          0.          0.          0.          0.\n",
      "  0.          0.          0.296875    0.9609375   0.984375    0.4375      0.\n",
      "  0.          0.          0.          0.          0.          0.          0.\n",
      "  0.          0.          0.98828125  0.984375    0.578125    0.          0.\n",
      "  0.          0.          0.          0.          0.          0.          0.\n",
      "  0.          0.          0.33203125  0.984375    0.8984375   0.09765625\n",
      "  0.          0.          0.          0.          0.          0.          0.\n",
      "  0.          0.02734375  0.52734375  0.98828125  0.7265625   0.046875    0.\n",
      "  0.          0.          0.          0.          0.          0.          0.\n",
      "  0.          0.          0.          0.33203125  0.984375    0.87109375\n",
      "  0.          0.          0.          0.          0.          0.          0.\n",
      "  0.          0.02734375  0.51171875  0.984375    0.87890625  0.27734375\n",
      "  0.          0.          0.          0.          0.          0.          0.\n",
      "  0.          0.          0.          0.          0.          0.33203125\n",
      "  0.984375    0.56640625  0.          0.          0.          0.          0.\n",
      "  0.          0.          0.1875      0.64453125  0.984375    0.67578125\n",
      "  0.          0.          0.          0.          0.          0.          0.\n",
      "  0.          0.          0.          0.          0.          0.          0.\n",
      "  0.3359375   0.98828125  0.87890625  0.          0.          0.          0.\n",
      "  0.          0.          0.4453125   0.9296875   0.98828125  0.6328125   0.\n",
      "  0.          0.          0.          0.          0.          0.          0.\n",
      "  0.          0.          0.          0.          0.          0.          0.\n",
      "  0.33203125  0.984375    0.97265625  0.5703125   0.1875      0.11328125\n",
      "  0.33203125  0.6953125   0.87890625  0.98828125  0.87109375  0.65234375\n",
      "  0.21875     0.          0.          0.          0.          0.          0.\n",
      "  0.          0.          0.          0.          0.          0.          0.\n",
      "  0.          0.          0.33203125  0.984375    0.984375    0.984375\n",
      "  0.89453125  0.83984375  0.984375    0.984375    0.984375    0.765625\n",
      "  0.5078125   0.          0.          0.          0.          0.          0.\n",
      "  0.          0.          0.          0.          0.          0.          0.\n",
      "  0.          0.          0.          0.          0.109375    0.77734375\n",
      "  0.984375    0.984375    0.98828125  0.984375    0.984375    0.91015625\n",
      "  0.56640625  0.          0.          0.          0.          0.          0.\n",
      "  0.          0.          0.          0.          0.          0.          0.\n",
      "  0.          0.          0.          0.          0.          0.          0.\n",
      "  0.09765625  0.5         0.984375    0.98828125  0.984375    0.55078125\n",
      "  0.14453125  0.          0.          0.          0.          0.          0.\n",
      "  0.          0.          0.          0.          0.          0.          0.\n",
      "  0.          0.          0.          0.          0.          0.          0.\n",
      "  0.          0.          0.          0.          0.          0.          0.\n",
      "  0.          0.          0.          0.          0.          0.          0.\n",
      "  0.          0.          0.          0.          0.          0.          0.\n",
      "  0.          0.          0.          0.          0.          0.          0.\n",
      "  0.          0.          0.          0.          0.          0.          0.\n",
      "  0.          0.          0.          0.          0.          0.          0.\n",
      "  0.          0.          0.          0.          0.          0.          0.\n",
      "  0.          0.          0.          0.          0.          0.          0.\n",
      "  0.          0.          0.          0.          0.          0.          0.\n",
      "  0.          0.          0.          0.          0.          0.          0.\n",
      "  0.          0.          0.          0.          0.          0.          0.\n",
      "  0.          0.          0.          0.          0.          0.          0.\n",
      "  0.          0.          0.          0.          0.          0.          0.\n",
      "  0.          0.          0.          0.          0.          0.          0.\n",
      "  0.          0.          0.          0.          0.          0.          0.\n",
      "  0.        ]\n"
     ]
    }
   ],
   "source": [
    "print(train_data[0][1]) # pixels are in the range 0-1"
   ]
  },
  {
   "cell_type": "code",
   "execution_count": 65,
   "metadata": {},
   "outputs": [],
   "source": [
    "def mnist_reshape(data):\n",
    "    \n",
    "    images, targets = data\n",
    "    images = images.astype('float32')\n",
    "    images = images.reshape(-1, 784)\n",
    "    images2 = (images*(256-1e-8)).astype('int32')\n",
    "    \n",
    "    targets = targets.astype('float32')\n",
    "\n",
    "    return(np.copy(images2), np.copy(targets))"
   ]
  },
  {
   "cell_type": "code",
   "execution_count": 66,
   "metadata": {},
   "outputs": [],
   "source": [
    "train_data = mnist_reshape(train_data)"
   ]
  },
  {
   "cell_type": "code",
   "execution_count": 67,
   "metadata": {},
   "outputs": [],
   "source": [
    "index = np.random.randint(0, len(train_data[1]), 2)"
   ]
  },
  {
   "cell_type": "code",
   "execution_count": 68,
   "metadata": {},
   "outputs": [
    {
     "name": "stdout",
     "output_type": "stream",
     "text": [
      "[  0   0   0   0   0   0   0   0   0   0   0   0   0   0   0   0   0   0\n",
      "   0   0   0   0   0   0   0   0   0   0   0   0   0   0   0   0   0   0\n",
      "   0   0   0   0   0   0   0   0   0   0   0   0   0   0   0   0   0   0\n",
      "   0   0   0   0   0   0   0   0   0   0   0   0   0   0   0   0   0   0\n",
      "   0   0   0   0   0   0   0   0   0   0   0   0   0   0   0   0   0   0\n",
      "   0   0   0   0   0   0   0   0   0   0   0   0   0   0   0   0   0   0\n",
      "   0   0   0   0   0   0   0   0   0   0   0   0   0   0   0   0   0   0\n",
      "   0   0   0   0   0   0   0   0   0   0   0   0   0   0   0   0   0   0\n",
      "   0   0   0   0   0   0   0   0   0   0   0   0   0   0   0   0   0   0\n",
      "   0   0   0   0   0   0   0   0   0   0   0   0   0   0   0   0   0   0\n",
      "   0   0   0   0   0   0   0   0   0   0   0   0   0   0   0   0   0   0\n",
      "   0   0   0   0   0   0   0  18  18  38 136 136 180 254 255 241 115   5\n",
      "   0   0   0   0   0   0   0   0   0   0   0   0   0  25 125 154 154 249\n",
      " 253 253 253 253 253 253 253 253 253 151   8   0   0   0   0   0   0   0\n",
      "   0   0   0   0   0 171 253 253 253 253 253 253 253 212 200 200 200 231\n",
      " 253 253  53   0   0   0   0   0   0   0   0   0   0   0   0 171 253 253\n",
      " 253 218 171  65  65  15   0   0   0  60 253 253  53   0   0   0   0   0\n",
      "   0   0   0   0   0   0   0  32 134 237 253 129   0   0   0   0   0   0\n",
      "   0  72 253 253  53   0   0   0   0   0   0   0   0   0   0   0   0   0\n",
      "   0  24 133  20   0   0   0   0   0   0   0 148 253 253  53   0   0   0\n",
      "   0   0   0   0   0   0   0   0   0   0   0   0   0   0   0   0   0   0\n",
      "   0   0  15 249 253 191   3   0   0   0   0   0   0   0   0   0   0   0\n",
      "   0   0   0   0   0   0   0   0   0   0   0   0 130 253 253 177   0   0\n",
      "   0   0   0   0   0   0   0   0   0   0   0   0   0   0   0   0   0   0\n",
      "   0   0   0   0 130 253 253  70   0   0   0   0   0   0   0   0   0   0\n",
      "   0   0   0   0   0   0   0   0   0   0   0   0   0   0 130 253 253  70\n",
      "   0   0   0   0   0   0   0   0   0   0   0   0   0   0   0   0   0   0\n",
      "   0   0   0   0   0   0 221 253 253  70   0   0   0   0   0   0   0   0\n",
      "   0   0   0   0   0   0   0   0   0   0   0   0   0   0   0   0 249 253\n",
      " 213  12   0   0   0   0   0   0   0   0   0   0   0   0   0   0   0   0\n",
      "   0   0   0   0   0   0   0 103 253 253 206   0   0   0   0   0   0   0\n",
      "   0   0   0   0   0   0   0   0   0   0   0   0   0   0   0   0   0 229\n",
      " 253 252  86   0   0   0   0   0   0   0   0   0   0   0   0   0   0   0\n",
      "   0   0   0   0   0   0   0   0   0 231 253 224   0   0   0   0   0   0\n",
      "   0   0   0   0   0   0   0   0   0   0   0   0   0   0   0   0   0   0\n",
      "  63 246 253 224   0   0   0   0   0   0   0   0   0   0   0   0   0   0\n",
      "   0   0   0   0   0   0   0   0   0   0 126 253 253 224   0   0   0   0\n",
      "   0   0   0   0   0   0   0   0   0   0   0   0   0   0   0   0   0   0\n",
      "   0  26 226 253 253 129   0   0   0   0   0   0   0   0   0   0   0   0\n",
      "   0   0   0   0   0   0   0   0   0   0   0  78 253 253 196  15   0   0\n",
      "   0   0   0   0   0   0   0   0   0   0   0   0   0   0   0   0   0   0\n",
      "   0   0   0   6 160 253 124   0   0   0   0   0   0   0   0   0   0   0\n",
      "   0   0   0   0   0   0   0   0   0   0   0   0   0   0   0   0   0   0\n",
      "   0   0   0   0   0   0   0   0   0   0]\n"
     ]
    }
   ],
   "source": [
    "print(train_data[0][index[0]]) # pixels are now integers"
   ]
  },
  {
   "cell_type": "code",
   "execution_count": 69,
   "metadata": {},
   "outputs": [],
   "source": [
    "image_samples = train_data[0][index]"
   ]
  },
  {
   "cell_type": "code",
   "execution_count": 70,
   "metadata": {},
   "outputs": [],
   "source": [
    "label_samples = train_data[1][index]"
   ]
  },
  {
   "cell_type": "code",
   "execution_count": 71,
   "metadata": {},
   "outputs": [],
   "source": [
    "new_target = (np.mean(label_samples))"
   ]
  },
  {
   "cell_type": "code",
   "execution_count": 72,
   "metadata": {},
   "outputs": [],
   "source": [
    "# save images as uint8 arrays\n",
    "image_samples_int8  = image_samples.astype(np.uint8)"
   ]
  },
  {
   "cell_type": "code",
   "execution_count": 73,
   "metadata": {},
   "outputs": [],
   "source": [
    "samples_new = image_samples, label_samples"
   ]
  },
  {
   "cell_type": "code",
   "execution_count": 74,
   "metadata": {},
   "outputs": [],
   "source": [
    "sample1 = image_samples[1], label_samples[1]"
   ]
  },
  {
   "cell_type": "code",
   "execution_count": 85,
   "metadata": {},
   "outputs": [],
   "source": [
    "#print(samples_new)"
   ]
  },
  {
   "cell_type": "code",
   "execution_count": 84,
   "metadata": {},
   "outputs": [],
   "source": [
    "#print(samples_new[0][0]) # before converting to uint8"
   ]
  },
  {
   "cell_type": "code",
   "execution_count": 83,
   "metadata": {},
   "outputs": [],
   "source": [
    "#print(image_samples_int8[0]) # after converting to uint8"
   ]
  },
  {
   "cell_type": "code",
   "execution_count": 82,
   "metadata": {},
   "outputs": [
    {
     "name": "stderr",
     "output_type": "stream",
     "text": [
      "/anaconda2/lib/python2.7/site-packages/ipykernel_launcher.py:2: DeprecationWarning: `imread` is deprecated!\n",
      "`imread` is deprecated in SciPy 1.0.0, and will be removed in 1.2.0.\n",
      "Use ``imageio.imread`` instead.\n",
      "  \n"
     ]
    }
   ],
   "source": [
    "# Read in png file and target as arrays\n",
    "testimage = imread('/Users/wildflowerlyi/Desktop/encoded_reconsamples_0.png', mode='P')\n",
    "#print(testimage.shape)\n",
    "testtarget = np.array([1.5])"
   ]
  },
  {
   "cell_type": "code",
   "execution_count": 60,
   "metadata": {},
   "outputs": [],
   "source": [
    "# Import Keras\n",
    "import keras\n",
    "from keras.datasets import mnist, cifar10\n",
    "import imageio\n",
    "from tempfile import TemporaryFile\n",
    "\n",
    "(x_train, y_train), (x_test, y_test) = mnist.load_data()\n",
    "(x_traincifar, y_traincifar), (x_testcifar, y_testcifar) = cifar10.load_data()"
   ]
  },
  {
   "cell_type": "code",
   "execution_count": 55,
   "metadata": {},
   "outputs": [],
   "source": [
    "# Save a generated image and its corresponding target as a tuple\n",
    "outfile = TemporaryFile()\n",
    "#np.savez(outfile,image = testimage, label = testtarget)\n",
    "np.save(outfile, image = testimage)\n",
    "np.save()"
   ]
  },
  {
   "cell_type": "code",
   "execution_count": 56,
   "metadata": {},
   "outputs": [],
   "source": [
    "outfile.seek(0)\n",
    "npzfile = np.load(outfile)"
   ]
  },
  {
   "cell_type": "code",
   "execution_count": 57,
   "metadata": {},
   "outputs": [
    {
     "data": {
      "text/plain": [
       "['image', 'label']"
      ]
     },
     "execution_count": 57,
     "metadata": {},
     "output_type": "execute_result"
    }
   ],
   "source": [
    "npzfile.files"
   ]
  },
  {
   "cell_type": "code",
   "execution_count": 95,
   "metadata": {},
   "outputs": [],
   "source": [
    "# Reshape the image\n",
    "# If MNIST\n",
    "newimage = sample1[0].reshape(-1, 28, 28)\n",
    "# If CIFAR\n",
    "#newimage = sample1[0].reshape(-1, 3, 32, 32)"
   ]
  },
  {
   "cell_type": "code",
   "execution_count": 93,
   "metadata": {},
   "outputs": [],
   "source": [
    "# Add image and target to dataset\n",
    "x_train_aug = np.append(x_train, newimage2, axis=0)\n",
    "y_train_aug = np.append(y_train, sample1[1])"
   ]
  },
  {
   "cell_type": "code",
   "execution_count": 97,
   "metadata": {},
   "outputs": [],
   "source": [
    "np.save('/Users/wildflowerlyi/Desktop/test', x_train_aug)"
   ]
  },
  {
   "cell_type": "code",
   "execution_count": 99,
   "metadata": {},
   "outputs": [],
   "source": [
    "x_augmentations_arrays = np.load('/Users/wildflowerlyi/Desktop/test.npy')"
   ]
  },
  {
   "cell_type": "code",
   "execution_count": null,
   "metadata": {},
   "outputs": [],
   "source": [
    "# SAVING AUGMENTATIONS: FINAL\n",
    "# (0) Initialize image array\n",
    "# (1) Produce image array\n",
    "# (2) Add image array to those before\n",
    "# (3) Save final array at end of for loop"
   ]
  },
  {
   "cell_type": "code",
   "execution_count": null,
   "metadata": {},
   "outputs": [],
   "source": [
    "# Insert this at line 798\n",
    "x_augmentations_array = []\n",
    "\n",
    "# Insert this line under the sample generation loop in line 823\n",
    "print \"Appending image array to those previously generated\"\n",
    "    x_augmentations_array_addition = samples.shape(-1,HEIGHT,WIDTH)\n",
    "    x_augmentations_array = np.append(x_augmentations_array, samples, axis=0)\n",
    "\n",
    "# Insert this line after all images have been added, after line 834 (make sure not indented)\n",
    "np.save('x_augmentations_array', x_augmentations_array)"
   ]
  },
  {
   "cell_type": "code",
   "execution_count": null,
   "metadata": {},
   "outputs": [],
   "source": [
    "# READING IN AUGMENTATIONS TO TRAIN NEURAL NETWORKS: FINAL\n",
    "# (1) x_augmentations = []\n",
    "#     y_augmentations = []\n",
    "#     Start for loop....\n",
    "# (2) Generate image, reshape to newimage = image.reshape(-1, 28, 28) or newimage = image.reshape(-1, 3, 32, 32)\n",
    "#     x_augmentations = np.append(x_augmentations, newimage, axis=0)\n",
    "#     y_augmentations = np.append(y_augmentations, newlabel, axis=0)\n",
    "#     np.save('x_augmentations_arrays', x_augmentations)\n",
    "#     np.save('y_augmentations_arrays', y_augmentations)\n",
    "# (3) Save as png using existing command\n",
    "# (4) Add the below text at the beginning of train_cifar10 files in each directory. Make sure the augmented files are \n",
    "# in each of the folders resnet_cifar, resnet_wide, resnet_densenet"
   ]
  },
  {
   "cell_type": "code",
   "execution_count": null,
   "metadata": {},
   "outputs": [],
   "source": [
    "# Import Keras\n",
    "import keras\n",
    "from keras.datasets import mnist, cifar10\n",
    "import numpy as np\n",
    "\n",
    "(x_train, y_train), (x_test, y_test) = mnist.load_data()\n",
    "(x_traincifar, y_traincifar), (x_testcifar, y_testcifar) = cifar10.load_data()\n",
    "\n",
    "# Load augmented arrays\n",
    "x_augmentations_arrays = np.load('/Users/wildflowerlyi/Desktop/Github/NN_calibration/scripts/resnet_cifar/x_augmentations_arrays.npy')\n",
    "y_augmentations_arrays = np.load('/Users/wildflowerlyi/Desktop/Github/NN_calibration/scripts/resnet_cifar/y_augmentations_arrays.npy')\n",
    "\n",
    "# Add images and targets to original dataset\n",
    "x_train_aug = np.append(x_train, x_augmentations_arrays, axis=0)\n",
    "y_train_aug = np.append(y_train, y_augmentations_arrays, axis=0)"
   ]
  }
 ],
 "metadata": {
  "kernelspec": {
   "display_name": "Python 2",
   "language": "python",
   "name": "python2"
  },
  "language_info": {
   "codemirror_mode": {
    "name": "ipython",
    "version": 2
   },
   "file_extension": ".py",
   "mimetype": "text/x-python",
   "name": "python",
   "nbconvert_exporter": "python",
   "pygments_lexer": "ipython2",
   "version": "2.7.15"
  }
 },
 "nbformat": 4,
 "nbformat_minor": 2
}
