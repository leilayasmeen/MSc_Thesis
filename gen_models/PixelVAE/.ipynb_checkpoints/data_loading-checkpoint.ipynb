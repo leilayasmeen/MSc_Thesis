{
 "cells": [
  {
   "cell_type": "code",
   "execution_count": 4,
   "metadata": {},
   "outputs": [],
   "source": [
    "import os, sys\n",
    "sys.path.append(os.getcwd())\n",
    "sys.modules['theano'] = None\n",
    "\n",
    "import numpy as np\n",
    "import tensorflow as tf\n",
    "import scipy.misc\n",
    "import imageio\n",
    "from imageio import imwrite\n",
    "from scipy.misc import imsave, imread\n",
    "\n",
    "import tflib as lib\n",
    "import tflib.sampling_loop\n",
    "import tflib.ops.kl_unit_gaussian\n",
    "import tflib.ops.kl_gaussian_gaussian\n",
    "import tflib.ops.conv2d\n",
    "import tflib.ops.linear\n",
    "import tflib.ops.batchnorm\n",
    "import tflib.ops.embedding\n",
    "\n",
    "import os\n",
    "import urllib\n",
    "import gzip\n",
    "import cPickle as pickle\n",
    "\n",
    "import time\n",
    "import functools\n",
    "import random\n"
   ]
  },
  {
   "cell_type": "code",
   "execution_count": 6,
   "metadata": {},
   "outputs": [],
   "source": [
    "from fuel.datasets.hdf5 import H5PYDataset\n",
    "from fuel.schemes import ShuffledScheme, SequentialScheme\n",
    "from fuel.streams import DataStream\n",
    "# from fuel.transformers.image import RandomFixedSizeCrop\n",
    "\n",
    "PATH = 'cifar10.hdf5'"
   ]
  },
  {
   "cell_type": "code",
   "execution_count": null,
   "metadata": {},
   "outputs": [],
   "source": [
    "def color_grid_vis(X, nh, nw, save_path):\n",
    "    # from github.com/Newmu\n",
    "    X = X.transpose(0,2,3,1)\n",
    "    h, w = X[0].shape[:2]\n",
    "    img = np.zeros((h*nh, w*nw, 3))\n",
    "    for n, x in enumerate(X):\n",
    "        j = n/nw\n",
    "        i = n%nw\n",
    "        img[j*h:j*h+h, i*w:i*w+w, :] = x\n",
    "    imsave(save_path, img)"
   ]
  },
  {
   "cell_type": "code",
   "execution_count": null,
   "metadata": {},
   "outputs": [],
   "source": [
    "def _make_stream(stream, bs):\n",
    "    def new_stream():\n",
    "      result = np.empty((bs, 32, 32, 3), dtype='int32')\n",
    "      for (imb,) in stream.get_epoch_iterator():\n",
    "        for i, img in enumerate(imb):\n",
    "          result[i] =  img[:32, :32, :]                \n",
    "        yield (result.transpose(0,3,1,2),)\n",
    "    return new_stream"
   ]
  },
  {
   "cell_type": "code",
   "execution_count": null,
   "metadata": {},
   "outputs": [],
   "source": [
    "def load(batch_size=128): #LEILAEDIT: took out downsampling, changed validation data to CIFAR test set, changed tr_data in line 53 to val_data\n",
    "    \n",
    "    tr_data = H5PYDataset(PATH, which_sets=('train',))\n",
    "    val_data = H5PYDataset(PATH, which_sets=('test',))\n",
    "\n",
    "    ntrain = tr_data.num_examples\n",
    "    nval = val_data.num_examples\n",
    "\n",
    "    print \"ntrain {}, nval {}\".format(ntrain, nval)\n",
    "\n",
    "    tr_scheme = ShuffledScheme(examples=ntrain, batch_size=batch_size)\n",
    "    tr_stream = DataStream(tr_data, iteration_scheme=tr_scheme)\n",
    "\n",
    "    # te_scheme = SequentialScheme(examples=ntest, batch_size=batch_size)\n",
    "    # te_stream = DataStream(te_data, iteration_scheme=te_scheme)\n",
    "\n",
    "    val_scheme = SequentialScheme(examples=nval, batch_size=batch_size)\n",
    "    val_stream = DataStream(val_data, iteration_scheme=val_scheme)\n",
    "\n",
    "    return _make_stream(tr_stream, batch_size), _make_stream(val_stream, batch_size)"
   ]
  }
 ],
 "metadata": {
  "kernelspec": {
   "display_name": "Python 2",
   "language": "python",
   "name": "python2"
  },
  "language_info": {
   "codemirror_mode": {
    "name": "ipython",
    "version": 2
   },
   "file_extension": ".py",
   "mimetype": "text/x-python",
   "name": "python",
   "nbconvert_exporter": "python",
   "pygments_lexer": "ipython2",
   "version": "2.7.15"
  }
 },
 "nbformat": 4,
 "nbformat_minor": 2
}
