{
 "cells": [
  {
   "cell_type": "code",
   "execution_count": 5,
   "metadata": {},
   "outputs": [],
   "source": [
    "import numpy as np\n",
    "import pandas as pd\n",
    "from os.path import join\n",
    "from sklearn.isotonic import IsotonicRegression\n",
    "from sklearn.linear_model import LogisticRegression\n",
    "from cal_methods import TemperatureScaling, evaluate, softmax, cal_results\n",
    "\n",
    "import scipy.misc\n",
    "import imageio\n",
    "from imageio import imwrite\n",
    "from scipy.misc import imsave, imread"
   ]
  },
  {
   "cell_type": "code",
   "execution_count": 17,
   "metadata": {},
   "outputs": [],
   "source": [
    "im1a = imageio.imread('/Users/wildflowerlyi/Desktop/Plots/im1a.png')\n",
    "im1b = imageio.imread('/Users/wildflowerlyi/Desktop/Plots/im1b.png')\n",
    "im2a = imageio.imread('/Users/wildflowerlyi/Desktop/Plots/im2a.png')\n",
    "im2b = imageio.imread('/Users/wildflowerlyi/Desktop/Plots/im2b.png')\n",
    "im3a = imageio.imread('/Users/wildflowerlyi/Desktop/Plots/im3a.png')\n",
    "im3b = imageio.imread('/Users/wildflowerlyi/Desktop/Plots/im3b.png')\n",
    "im4a = imageio.imread('/Users/wildflowerlyi/Desktop/Plots/im4a.png')\n",
    "im4b = imageio.imread('/Users/wildflowerlyi/Desktop/Plots/im4b.png')"
   ]
  },
  {
   "cell_type": "code",
   "execution_count": 33,
   "metadata": {},
   "outputs": [
    {
     "data": {
      "text/plain": [
       "(32, 32, 3)"
      ]
     },
     "execution_count": 33,
     "metadata": {},
     "output_type": "execute_result"
    }
   ],
   "source": [
    "im1a = np.asarray(im1a)\n",
    "im1b = np.asarray(im1b)\n",
    "\n",
    "im1a.shape"
   ]
  },
  {
   "cell_type": "code",
   "execution_count": 41,
   "metadata": {},
   "outputs": [],
   "source": [
    "im1interpol02 = 0.2 * im1a + 0.8 * im1b\n",
    "im2interpol02 = 0.2 * im2a + 0.8 * im2b\n",
    "im3interpol02 = 0.2 * im3a + 0.8 * im3b\n",
    "im4interpol02 = 0.2 * im4a + 0.8 * im4b\n",
    "\n",
    "im1interpol04 = 0.4 * im1a + 0.6 * im1b\n",
    "im2interpol04 = 0.4 * im2a + 0.6 * im2b\n",
    "im3interpol04 = 0.4 * im3a + 0.6 * im3b\n",
    "im4interpol04 = 0.4 * im4a + 0.6 * im4b\n",
    "\n",
    "im1interpol06 = 0.6 * im1a + 0.4 * im1b\n",
    "im2interpol06 = 0.6 * im2a + 0.4 * im2b\n",
    "im3interpol06 = 0.6 * im3a + 0.4 * im3b\n",
    "im4interpol06 = 0.6 * im4a + 0.4 * im4b\n",
    "\n",
    "im1interpol08 = 0.8 * im1a + 0.2 * im1b\n",
    "im2interpol08 = 0.8 * im2a + 0.2 * im2b\n",
    "im3interpol08 = 0.8 * im3a + 0.2 * im3b\n",
    "im4interpol08 = 0.8 * im4a + 0.2 * im4b"
   ]
  },
  {
   "cell_type": "code",
   "execution_count": 42,
   "metadata": {},
   "outputs": [],
   "source": [
    "def color_grid_vis(X, nh, nw, savepath):\n",
    "    # from github.com/Newmu\n",
    "    h, w = X[0].shape[:2]\n",
    "    img = np.zeros((h*nh, w*nw, 3))\n",
    "    for n, x in enumerate(X):\n",
    "        j = n/nw\n",
    "        i = n%nw\n",
    "        img[j*h:j*h+h, i*w:i*w+w, :] = x\n",
    "    imsave(savepath,img)"
   ]
  },
  {
   "cell_type": "code",
   "execution_count": 43,
   "metadata": {},
   "outputs": [
    {
     "name": "stderr",
     "output_type": "stream",
     "text": [
      "/anaconda2/envs/tensorflow/lib/python2.7/site-packages/ipykernel_launcher.py:9: DeprecationWarning: `imsave` is deprecated!\n",
      "`imsave` is deprecated in SciPy 1.0.0, and will be removed in 1.2.0.\n",
      "Use ``imageio.imwrite`` instead.\n",
      "  if __name__ == '__main__':\n"
     ]
    }
   ],
   "source": [
    "im1interpol02 = im1interpol02.reshape(1,32,32,3)\n",
    "color_grid_vis(im1interpol02, 1, 1, '/Users/wildflowerlyi/Desktop/Plots/im1interpol02.png')\n",
    "im2interpol02 = im2interpol02.reshape(1,32,32,3)\n",
    "color_grid_vis(im2interpol02, 1, 1, '/Users/wildflowerlyi/Desktop/Plots/im2interpol02.png')\n",
    "im3interpol02 = im3interpol02.reshape(1,32,32,3)\n",
    "color_grid_vis(im3interpol02, 1, 1, '/Users/wildflowerlyi/Desktop/Plots/im3interpol02.png')\n",
    "im4interpol02 = im4interpol02.reshape(1,32,32,3)\n",
    "color_grid_vis(im4interpol02, 1, 1, '/Users/wildflowerlyi/Desktop/Plots/im4interpol02.png')"
   ]
  },
  {
   "cell_type": "code",
   "execution_count": 44,
   "metadata": {},
   "outputs": [
    {
     "name": "stderr",
     "output_type": "stream",
     "text": [
      "/anaconda2/envs/tensorflow/lib/python2.7/site-packages/ipykernel_launcher.py:9: DeprecationWarning: `imsave` is deprecated!\n",
      "`imsave` is deprecated in SciPy 1.0.0, and will be removed in 1.2.0.\n",
      "Use ``imageio.imwrite`` instead.\n",
      "  if __name__ == '__main__':\n"
     ]
    }
   ],
   "source": [
    "im1interpol04 = im1interpol04.reshape(1,32,32,3)\n",
    "color_grid_vis(im1interpol04, 1, 1, '/Users/wildflowerlyi/Desktop/Plots/im1interpol04.png')\n",
    "im2interpol04 = im2interpol04.reshape(1,32,32,3)\n",
    "color_grid_vis(im2interpol04, 1, 1, '/Users/wildflowerlyi/Desktop/Plots/im2interpol04.png')\n",
    "im3interpol04 = im3interpol04.reshape(1,32,32,3)\n",
    "color_grid_vis(im3interpol04, 1, 1, '/Users/wildflowerlyi/Desktop/Plots/im3interpol04.png')\n",
    "im4interpol04 = im4interpol04.reshape(1,32,32,3)\n",
    "color_grid_vis(im4interpol04, 1, 1, '/Users/wildflowerlyi/Desktop/Plots/im4interpol04.png')"
   ]
  },
  {
   "cell_type": "code",
   "execution_count": 45,
   "metadata": {},
   "outputs": [
    {
     "name": "stderr",
     "output_type": "stream",
     "text": [
      "/anaconda2/envs/tensorflow/lib/python2.7/site-packages/ipykernel_launcher.py:9: DeprecationWarning: `imsave` is deprecated!\n",
      "`imsave` is deprecated in SciPy 1.0.0, and will be removed in 1.2.0.\n",
      "Use ``imageio.imwrite`` instead.\n",
      "  if __name__ == '__main__':\n"
     ]
    }
   ],
   "source": [
    "im1interpol06 = im1interpol06.reshape(1,32,32,3)\n",
    "color_grid_vis(im1interpol06, 1, 1, '/Users/wildflowerlyi/Desktop/Plots/im1interpol06.png')\n",
    "im2interpol06 = im2interpol06.reshape(1,32,32,3)\n",
    "color_grid_vis(im2interpol06, 1, 1, '/Users/wildflowerlyi/Desktop/Plots/im2interpol06.png')\n",
    "im3interpol06 = im3interpol06.reshape(1,32,32,3)\n",
    "color_grid_vis(im3interpol06, 1, 1, '/Users/wildflowerlyi/Desktop/Plots/im3interpol06.png')\n",
    "im4interpol06 = im4interpol06.reshape(1,32,32,3)\n",
    "color_grid_vis(im4interpol06, 1, 1, '/Users/wildflowerlyi/Desktop/Plots/im4interpol06.png')"
   ]
  },
  {
   "cell_type": "code",
   "execution_count": 46,
   "metadata": {},
   "outputs": [
    {
     "name": "stderr",
     "output_type": "stream",
     "text": [
      "/anaconda2/envs/tensorflow/lib/python2.7/site-packages/ipykernel_launcher.py:9: DeprecationWarning: `imsave` is deprecated!\n",
      "`imsave` is deprecated in SciPy 1.0.0, and will be removed in 1.2.0.\n",
      "Use ``imageio.imwrite`` instead.\n",
      "  if __name__ == '__main__':\n"
     ]
    }
   ],
   "source": [
    "im1interpol08 = im1interpol08.reshape(1,32,32,3)\n",
    "color_grid_vis(im1interpol08, 1, 1, '/Users/wildflowerlyi/Desktop/Plots/im1interpol08.png')\n",
    "im2interpol08 = im2interpol08.reshape(1,32,32,3)\n",
    "color_grid_vis(im2interpol08, 1, 1, '/Users/wildflowerlyi/Desktop/Plots/im2interpol08.png')\n",
    "im3interpol08 = im3interpol08.reshape(1,32,32,3)\n",
    "color_grid_vis(im3interpol08, 1, 1, '/Users/wildflowerlyi/Desktop/Plots/im3interpol08.png')\n",
    "im4interpol08 = im4interpol08.reshape(1,32,32,3)\n",
    "color_grid_vis(im4interpol08, 1, 1, '/Users/wildflowerlyi/Desktop/Plots/im4interpol08.png')"
   ]
  },
  {
   "cell_type": "code",
   "execution_count": null,
   "metadata": {},
   "outputs": [],
   "source": []
  }
 ],
 "metadata": {
  "kernelspec": {
   "display_name": "Python 2",
   "language": "python",
   "name": "python2"
  },
  "language_info": {
   "codemirror_mode": {
    "name": "ipython",
    "version": 2
   },
   "file_extension": ".py",
   "mimetype": "text/x-python",
   "name": "python",
   "nbconvert_exporter": "python",
   "pygments_lexer": "ipython2",
   "version": "2.7.15"
  }
 },
 "nbformat": 4,
 "nbformat_minor": 2
}
