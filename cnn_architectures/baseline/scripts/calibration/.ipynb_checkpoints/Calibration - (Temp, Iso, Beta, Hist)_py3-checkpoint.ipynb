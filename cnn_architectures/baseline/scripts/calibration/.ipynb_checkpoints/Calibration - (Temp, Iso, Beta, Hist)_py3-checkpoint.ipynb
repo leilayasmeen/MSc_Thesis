{
 "cells": [
  {
   "cell_type": "markdown",
   "metadata": {},
   "source": [
    "# Calibration"
   ]
  },
  {
   "cell_type": "markdown",
   "metadata": {},
   "source": [
    "Evaluating calibration methods on convolutional neural networks."
   ]
  },
  {
   "cell_type": "code",
   "execution_count": 1,
   "metadata": {},
   "outputs": [
    {
     "name": "stderr",
     "output_type": "stream",
     "text": [
      "Using TensorFlow backend.\n"
     ]
    }
   ],
   "source": [
    "import numpy as np\n",
    "import pandas as pd\n",
    "from os.path import join\n",
    "from sklearn.isotonic import IsotonicRegression\n",
    "from sklearn.linear_model import LogisticRegression\n",
    "from cal_methodspy3 import TemperatureScaling, evaluate, cal_results"
   ]
  },
  {
   "cell_type": "markdown",
   "metadata": {},
   "source": [
    "## Calibration approaches"
   ]
  },
  {
   "cell_type": "markdown",
   "metadata": {},
   "source": [
    "#### 1-vs-K calibration\n",
    "Histogram binning, isotonic regression and beta calibration are calibrated in 1-vs-K fashion. This means K different models are trained for K classes, so 1 model for each class\n",
    "#### Multiclass calibration\n",
    "Temperature scaling calibrates one model for all the classes together."
   ]
  },
  {
   "cell_type": "markdown",
   "metadata": {},
   "source": [
    "## Calibration of Predictions."
   ]
  },
  {
   "cell_type": "markdown",
   "metadata": {},
   "source": [
    "Paths to files with logits."
   ]
  },
  {
   "cell_type": "code",
   "execution_count": 4,
   "metadata": {},
   "outputs": [],
   "source": [
    "PATH = '/Users/wildflowerlyi/Desktop/Github/NN_calibration/scripts'\n",
    "files = ('resnet_cifar/probs_resnet110_c10_logits.p', 'resnet_cifar/probs_resnet110_c100_logits.p'\n",
    "        , 'resnet_wide/probs_resnet_wide32_c10_logits.p','resnet_wide/probs_resnet_wide32_c100_logits.p'\n",
    "        , 'resnet_densenet/probs_densenet40_c10_logits.p','resnet_densenet/probs_densenet40_c100_logits.p'\n",
    "        )"
   ]
  },
  {
   "cell_type": "markdown",
   "metadata": {},
   "source": [
    "### Isotonic Regression"
   ]
  },
  {
   "cell_type": "code",
   "execution_count": 5,
   "metadata": {
    "scrolled": true
   },
   "outputs": [
    {
     "name": "stdout",
     "output_type": "stream",
     "text": [
      "cifar/probs_resnet110_c10\n",
      "Accuracy: 93.39\n",
      "Error: 6.61\n",
      "ECE: 0.0482704070032\n",
      "MCE: 0.379260828194\n",
      "Loss: 0.382928193973\n"
     ]
    },
    {
     "ename": "ValueError",
     "evalue": "Input contains NaN, infinity or a value too large for dtype('float32').",
     "output_type": "error",
     "traceback": [
      "\u001b[0;31m---------------------------------------------------------------------------\u001b[0m",
      "\u001b[0;31mValueError\u001b[0m                                Traceback (most recent call last)",
      "\u001b[0;32m<ipython-input-5-2fec94afe51c>\u001b[0m in \u001b[0;36m<module>\u001b[0;34m()\u001b[0m\n\u001b[0;32m----> 1\u001b[0;31m \u001b[0mdf_iso\u001b[0m \u001b[0;34m=\u001b[0m \u001b[0mcal_results\u001b[0m\u001b[0;34m(\u001b[0m\u001b[0mIsotonicRegression\u001b[0m\u001b[0;34m,\u001b[0m \u001b[0mPATH\u001b[0m\u001b[0;34m,\u001b[0m \u001b[0mfiles\u001b[0m\u001b[0;34m,\u001b[0m \u001b[0;34m{\u001b[0m\u001b[0;34m'y_min'\u001b[0m\u001b[0;34m:\u001b[0m\u001b[0;36m0\u001b[0m\u001b[0;34m,\u001b[0m \u001b[0;34m'y_max'\u001b[0m\u001b[0;34m:\u001b[0m\u001b[0;36m1\u001b[0m\u001b[0;34m}\u001b[0m\u001b[0;34m,\u001b[0m \u001b[0mapproach\u001b[0m \u001b[0;34m=\u001b[0m \u001b[0;34m\"single\"\u001b[0m\u001b[0;34m)\u001b[0m\u001b[0;34m\u001b[0m\u001b[0m\n\u001b[0m",
      "\u001b[0;32m~/Desktop/Github/NN_calibration/scripts/calibration/cal_methodstest.py\u001b[0m in \u001b[0;36mcal_results\u001b[0;34m(fn, path, files, m_kwargs, approach)\u001b[0m\n",
      "\u001b[0;32m~/Desktop/Github/NN_calibration/scripts/calibration/cal_methodstest.py\u001b[0m in \u001b[0;36mevaluate\u001b[0;34m(probs, y_true, verbose, normalize, bins)\u001b[0m\n",
      "\u001b[0;32m/anaconda2/envs/tensorflow3/lib/python3.6/site-packages/sklearn/metrics/classification.py\u001b[0m in \u001b[0;36mlog_loss\u001b[0;34m(y_true, y_pred, eps, normalize, sample_weight, labels)\u001b[0m\n\u001b[1;32m   1638\u001b[0m     \u001b[0mThe\u001b[0m \u001b[0mlogarithm\u001b[0m \u001b[0mused\u001b[0m \u001b[0;32mis\u001b[0m \u001b[0mthe\u001b[0m \u001b[0mnatural\u001b[0m \u001b[0mlogarithm\u001b[0m \u001b[0;34m(\u001b[0m\u001b[0mbase\u001b[0m\u001b[0;34m-\u001b[0m\u001b[0me\u001b[0m\u001b[0;34m)\u001b[0m\u001b[0;34m.\u001b[0m\u001b[0;34m\u001b[0m\u001b[0m\n\u001b[1;32m   1639\u001b[0m     \"\"\"\n\u001b[0;32m-> 1640\u001b[0;31m     \u001b[0my_pred\u001b[0m \u001b[0;34m=\u001b[0m \u001b[0mcheck_array\u001b[0m\u001b[0;34m(\u001b[0m\u001b[0my_pred\u001b[0m\u001b[0;34m,\u001b[0m \u001b[0mensure_2d\u001b[0m\u001b[0;34m=\u001b[0m\u001b[0;32mFalse\u001b[0m\u001b[0;34m)\u001b[0m\u001b[0;34m\u001b[0m\u001b[0m\n\u001b[0m\u001b[1;32m   1641\u001b[0m     \u001b[0mcheck_consistent_length\u001b[0m\u001b[0;34m(\u001b[0m\u001b[0my_pred\u001b[0m\u001b[0;34m,\u001b[0m \u001b[0my_true\u001b[0m\u001b[0;34m)\u001b[0m\u001b[0;34m\u001b[0m\u001b[0m\n\u001b[1;32m   1642\u001b[0m \u001b[0;34m\u001b[0m\u001b[0m\n",
      "\u001b[0;32m/anaconda2/envs/tensorflow3/lib/python3.6/site-packages/sklearn/utils/validation.py\u001b[0m in \u001b[0;36mcheck_array\u001b[0;34m(array, accept_sparse, dtype, order, copy, force_all_finite, ensure_2d, allow_nd, ensure_min_samples, ensure_min_features, warn_on_dtype, estimator)\u001b[0m\n\u001b[1;32m    451\u001b[0m                              % (array.ndim, estimator_name))\n\u001b[1;32m    452\u001b[0m         \u001b[0;32mif\u001b[0m \u001b[0mforce_all_finite\u001b[0m\u001b[0;34m:\u001b[0m\u001b[0;34m\u001b[0m\u001b[0m\n\u001b[0;32m--> 453\u001b[0;31m             \u001b[0m_assert_all_finite\u001b[0m\u001b[0;34m(\u001b[0m\u001b[0marray\u001b[0m\u001b[0;34m)\u001b[0m\u001b[0;34m\u001b[0m\u001b[0m\n\u001b[0m\u001b[1;32m    454\u001b[0m \u001b[0;34m\u001b[0m\u001b[0m\n\u001b[1;32m    455\u001b[0m     \u001b[0mshape_repr\u001b[0m \u001b[0;34m=\u001b[0m \u001b[0m_shape_repr\u001b[0m\u001b[0;34m(\u001b[0m\u001b[0marray\u001b[0m\u001b[0;34m.\u001b[0m\u001b[0mshape\u001b[0m\u001b[0;34m)\u001b[0m\u001b[0;34m\u001b[0m\u001b[0m\n",
      "\u001b[0;32m/anaconda2/envs/tensorflow3/lib/python3.6/site-packages/sklearn/utils/validation.py\u001b[0m in \u001b[0;36m_assert_all_finite\u001b[0;34m(X)\u001b[0m\n\u001b[1;32m     42\u001b[0m             and not np.isfinite(X).all()):\n\u001b[1;32m     43\u001b[0m         raise ValueError(\"Input contains NaN, infinity\"\n\u001b[0;32m---> 44\u001b[0;31m                          \" or a value too large for %r.\" % X.dtype)\n\u001b[0m\u001b[1;32m     45\u001b[0m \u001b[0;34m\u001b[0m\u001b[0m\n\u001b[1;32m     46\u001b[0m \u001b[0;34m\u001b[0m\u001b[0m\n",
      "\u001b[0;31mValueError\u001b[0m: Input contains NaN, infinity or a value too large for dtype('float32')."
     ]
    }
   ],
   "source": [
    "df_iso = cal_results(IsotonicRegression, PATH, files, {'y_min':0, 'y_max':1}, approach = \"single\")"
   ]
  },
  {
   "cell_type": "markdown",
   "metadata": {},
   "source": [
    "### Temperature scaling"
   ]
  },
  {
   "cell_type": "code",
   "execution_count": 4,
   "metadata": {
    "scrolled": true
   },
   "outputs": [
    {
     "name": "stdout",
     "output_type": "stream",
     "text": [
      "cifar/probs_resnet110_c10\n",
      "('Accuracy:', 93.589999999999989)\n",
      "('Error:', 6.4100000000000108)\n",
      "('ECE:', 0.046430649885535205)\n",
      "('MCE:', 0.32451272834607259)\n",
      "('Loss:', 0.33779848147198643)\n",
      "('Time taken:', 2.539167881011963, '\\n')\n",
      "cifar/probs_resnet110_c100\n",
      "('Accuracy:', 70.899999999999991)\n",
      "('Error:', 29.100000000000009)\n",
      "('ECE:', 0.18215797445029019)\n",
      "('MCE:', 0.40451414786555151)\n",
      "('Loss:', 1.6784112737965144)\n",
      "('Time taken:', 3.1326470375061035, '\\n')\n",
      "wide/probs_resnet_wide32_c10\n",
      "('Accuracy:', 93.799999999999997)\n",
      "('Error:', 6.2000000000000028)\n",
      "('ECE:', 0.047311796060204525)\n",
      "('MCE:', 0.3678059713045756)\n",
      "('Loss:', 0.37100536326453859)\n",
      "('Time taken:', 2.916138172149658, '\\n')\n",
      "wide/probs_resnet_wide32_c100\n",
      "('Accuracy:', 73.740000000000009)\n",
      "('Error:', 26.259999999999991)\n",
      "('ECE:', 0.18916032450944181)\n",
      "('MCE:', 0.44225481720476578)\n",
      "('Loss:', 1.802476874117287)\n",
      "('Time taken:', 3.423107862472534, '\\n')\n",
      "densenet/probs_densenet40_c10\n",
      "('Accuracy:', 92.900000000000006)\n",
      "('Error:', 7.0999999999999943)\n",
      "('ECE:', 0.051972183519601804)\n",
      "('MCE:', 0.35494045674345875)\n",
      "('Loss:', 0.41025025195239284)\n",
      "('Time taken:', 2.708261013031006, '\\n')\n",
      "densenet/probs_densenet40_c100\n",
      "('Accuracy:', 69.920000000000002)\n",
      "('Error:', 30.079999999999998)\n",
      "('ECE:', 0.21343519774526359)\n",
      "('MCE:', 0.44759350922393204)\n",
      "('Loss:', 2.0464669998454594)\n",
      "('Time taken:', 3.345086097717285, '\\n')\n",
      "('Total time taken:', 18.065746068954468)\n"
     ]
    }
   ],
   "source": [
    "df_temp_scale = cal_results(TemperatureScaling, PATH, files, approach = \"all\")"
   ]
  },
  {
   "cell_type": "markdown",
   "metadata": {},
   "source": [
    "#### Calibrated scores for CIFAR datasets."
   ]
  },
  {
   "cell_type": "code",
   "execution_count": 5,
   "metadata": {},
   "outputs": [
    {
     "data": {
      "text/html": [
       "<div>\n",
       "<style scoped>\n",
       "    .dataframe tbody tr th:only-of-type {\n",
       "        vertical-align: middle;\n",
       "    }\n",
       "\n",
       "    .dataframe tbody tr th {\n",
       "        vertical-align: top;\n",
       "    }\n",
       "\n",
       "    .dataframe thead th {\n",
       "        text-align: right;\n",
       "    }\n",
       "</style>\n",
       "<table border=\"1\" class=\"dataframe\">\n",
       "  <thead>\n",
       "    <tr style=\"text-align: right;\">\n",
       "      <th></th>\n",
       "      <th>Name</th>\n",
       "      <th>Error</th>\n",
       "      <th>ECE</th>\n",
       "      <th>MCE</th>\n",
       "      <th>Loss</th>\n",
       "    </tr>\n",
       "  </thead>\n",
       "  <tbody>\n",
       "    <tr>\n",
       "      <th>0</th>\n",
       "      <td>cifar/probs_resnet110_c10</td>\n",
       "      <td>6.41</td>\n",
       "      <td>0.046431</td>\n",
       "      <td>0.324513</td>\n",
       "      <td>0.337798</td>\n",
       "    </tr>\n",
       "    <tr>\n",
       "      <th>1</th>\n",
       "      <td>cifar/probs_resnet110_c10_calib</td>\n",
       "      <td>6.35</td>\n",
       "      <td>0.011908</td>\n",
       "      <td>0.133175</td>\n",
       "      <td>0.272972</td>\n",
       "    </tr>\n",
       "    <tr>\n",
       "      <th>2</th>\n",
       "      <td>cifar/probs_resnet110_c100</td>\n",
       "      <td>29.10</td>\n",
       "      <td>0.182158</td>\n",
       "      <td>0.404514</td>\n",
       "      <td>1.678411</td>\n",
       "    </tr>\n",
       "    <tr>\n",
       "      <th>3</th>\n",
       "      <td>cifar/probs_resnet110_c100_calib</td>\n",
       "      <td>29.81</td>\n",
       "      <td>0.063051</td>\n",
       "      <td>0.135451</td>\n",
       "      <td>1.926400</td>\n",
       "    </tr>\n",
       "    <tr>\n",
       "      <th>4</th>\n",
       "      <td>wide/probs_resnet_wide32_c10</td>\n",
       "      <td>6.20</td>\n",
       "      <td>0.047312</td>\n",
       "      <td>0.367806</td>\n",
       "      <td>0.371005</td>\n",
       "    </tr>\n",
       "    <tr>\n",
       "      <th>5</th>\n",
       "      <td>wide/probs_resnet_wide32_c10_calib</td>\n",
       "      <td>6.05</td>\n",
       "      <td>0.010466</td>\n",
       "      <td>0.083494</td>\n",
       "      <td>0.217106</td>\n",
       "    </tr>\n",
       "    <tr>\n",
       "      <th>6</th>\n",
       "      <td>wide/probs_resnet_wide32_c100</td>\n",
       "      <td>26.26</td>\n",
       "      <td>0.189160</td>\n",
       "      <td>0.442255</td>\n",
       "      <td>1.802477</td>\n",
       "    </tr>\n",
       "    <tr>\n",
       "      <th>7</th>\n",
       "      <td>wide/probs_resnet_wide32_c100_calib</td>\n",
       "      <td>26.25</td>\n",
       "      <td>0.057913</td>\n",
       "      <td>0.149843</td>\n",
       "      <td>1.526906</td>\n",
       "    </tr>\n",
       "    <tr>\n",
       "      <th>8</th>\n",
       "      <td>densenet/probs_densenet40_c10</td>\n",
       "      <td>7.10</td>\n",
       "      <td>0.051972</td>\n",
       "      <td>0.354940</td>\n",
       "      <td>0.410250</td>\n",
       "    </tr>\n",
       "    <tr>\n",
       "      <th>9</th>\n",
       "      <td>densenet/probs_densenet40_c10_calib</td>\n",
       "      <td>7.10</td>\n",
       "      <td>0.012183</td>\n",
       "      <td>0.265471</td>\n",
       "      <td>0.281433</td>\n",
       "    </tr>\n",
       "    <tr>\n",
       "      <th>10</th>\n",
       "      <td>densenet/probs_densenet40_c100</td>\n",
       "      <td>30.08</td>\n",
       "      <td>0.213435</td>\n",
       "      <td>0.447594</td>\n",
       "      <td>2.046467</td>\n",
       "    </tr>\n",
       "    <tr>\n",
       "      <th>11</th>\n",
       "      <td>densenet/probs_densenet40_c100_calib</td>\n",
       "      <td>30.67</td>\n",
       "      <td>0.063639</td>\n",
       "      <td>0.134847</td>\n",
       "      <td>1.762323</td>\n",
       "    </tr>\n",
       "  </tbody>\n",
       "</table>\n",
       "</div>"
      ],
      "text/plain": [
       "                                    Name  Error       ECE       MCE      Loss\n",
       "0              cifar/probs_resnet110_c10   6.41  0.046431  0.324513  0.337798\n",
       "1        cifar/probs_resnet110_c10_calib   6.35  0.011908  0.133175  0.272972\n",
       "2             cifar/probs_resnet110_c100  29.10  0.182158  0.404514  1.678411\n",
       "3       cifar/probs_resnet110_c100_calib  29.81  0.063051  0.135451  1.926400\n",
       "4           wide/probs_resnet_wide32_c10   6.20  0.047312  0.367806  0.371005\n",
       "5     wide/probs_resnet_wide32_c10_calib   6.05  0.010466  0.083494  0.217106\n",
       "6          wide/probs_resnet_wide32_c100  26.26  0.189160  0.442255  1.802477\n",
       "7    wide/probs_resnet_wide32_c100_calib  26.25  0.057913  0.149843  1.526906\n",
       "8          densenet/probs_densenet40_c10   7.10  0.051972  0.354940  0.410250\n",
       "9    densenet/probs_densenet40_c10_calib   7.10  0.012183  0.265471  0.281433\n",
       "10        densenet/probs_densenet40_c100  30.08  0.213435  0.447594  2.046467\n",
       "11  densenet/probs_densenet40_c100_calib  30.67  0.063639  0.134847  1.762323"
      ]
     },
     "execution_count": 5,
     "metadata": {},
     "output_type": "execute_result"
    }
   ],
   "source": [
    "df_iso"
   ]
  },
  {
   "cell_type": "code",
   "execution_count": 6,
   "metadata": {},
   "outputs": [
    {
     "data": {
      "text/html": [
       "<div>\n",
       "<style scoped>\n",
       "    .dataframe tbody tr th:only-of-type {\n",
       "        vertical-align: middle;\n",
       "    }\n",
       "\n",
       "    .dataframe tbody tr th {\n",
       "        vertical-align: top;\n",
       "    }\n",
       "\n",
       "    .dataframe thead th {\n",
       "        text-align: right;\n",
       "    }\n",
       "</style>\n",
       "<table border=\"1\" class=\"dataframe\">\n",
       "  <thead>\n",
       "    <tr style=\"text-align: right;\">\n",
       "      <th></th>\n",
       "      <th>Name</th>\n",
       "      <th>Error</th>\n",
       "      <th>ECE</th>\n",
       "      <th>MCE</th>\n",
       "      <th>Loss</th>\n",
       "    </tr>\n",
       "  </thead>\n",
       "  <tbody>\n",
       "    <tr>\n",
       "      <th>0</th>\n",
       "      <td>cifar/probs_resnet110_c10</td>\n",
       "      <td>6.41</td>\n",
       "      <td>0.046431</td>\n",
       "      <td>0.324513</td>\n",
       "      <td>0.337798</td>\n",
       "    </tr>\n",
       "    <tr>\n",
       "      <th>1</th>\n",
       "      <td>cifar/probs_resnet110_c10_calib</td>\n",
       "      <td>6.41</td>\n",
       "      <td>0.006597</td>\n",
       "      <td>0.190398</td>\n",
       "      <td>0.207832</td>\n",
       "    </tr>\n",
       "    <tr>\n",
       "      <th>2</th>\n",
       "      <td>cifar/probs_resnet110_c100</td>\n",
       "      <td>29.10</td>\n",
       "      <td>0.182158</td>\n",
       "      <td>0.404514</td>\n",
       "      <td>1.678411</td>\n",
       "    </tr>\n",
       "    <tr>\n",
       "      <th>3</th>\n",
       "      <td>cifar/probs_resnet110_c100_calib</td>\n",
       "      <td>29.10</td>\n",
       "      <td>0.016323</td>\n",
       "      <td>0.055490</td>\n",
       "      <td>1.108074</td>\n",
       "    </tr>\n",
       "    <tr>\n",
       "      <th>4</th>\n",
       "      <td>wide/probs_resnet_wide32_c10</td>\n",
       "      <td>6.20</td>\n",
       "      <td>0.047312</td>\n",
       "      <td>0.367806</td>\n",
       "      <td>0.371005</td>\n",
       "    </tr>\n",
       "    <tr>\n",
       "      <th>5</th>\n",
       "      <td>wide/probs_resnet_wide32_c10_calib</td>\n",
       "      <td>6.20</td>\n",
       "      <td>0.008058</td>\n",
       "      <td>0.251238</td>\n",
       "      <td>0.186995</td>\n",
       "    </tr>\n",
       "    <tr>\n",
       "      <th>6</th>\n",
       "      <td>wide/probs_resnet_wide32_c100</td>\n",
       "      <td>26.26</td>\n",
       "      <td>0.189160</td>\n",
       "      <td>0.442255</td>\n",
       "      <td>1.802477</td>\n",
       "    </tr>\n",
       "    <tr>\n",
       "      <th>7</th>\n",
       "      <td>wide/probs_resnet_wide32_c100_calib</td>\n",
       "      <td>26.26</td>\n",
       "      <td>0.014632</td>\n",
       "      <td>0.054702</td>\n",
       "      <td>0.941676</td>\n",
       "    </tr>\n",
       "    <tr>\n",
       "      <th>8</th>\n",
       "      <td>densenet/probs_densenet40_c10</td>\n",
       "      <td>7.10</td>\n",
       "      <td>0.051972</td>\n",
       "      <td>0.354940</td>\n",
       "      <td>0.410250</td>\n",
       "    </tr>\n",
       "    <tr>\n",
       "      <th>9</th>\n",
       "      <td>densenet/probs_densenet40_c10_calib</td>\n",
       "      <td>7.10</td>\n",
       "      <td>0.009334</td>\n",
       "      <td>0.096582</td>\n",
       "      <td>0.216684</td>\n",
       "    </tr>\n",
       "    <tr>\n",
       "      <th>10</th>\n",
       "      <td>densenet/probs_densenet40_c100</td>\n",
       "      <td>30.08</td>\n",
       "      <td>0.213435</td>\n",
       "      <td>0.447594</td>\n",
       "      <td>2.046467</td>\n",
       "    </tr>\n",
       "    <tr>\n",
       "      <th>11</th>\n",
       "      <td>densenet/probs_densenet40_c100_calib</td>\n",
       "      <td>30.08</td>\n",
       "      <td>0.009959</td>\n",
       "      <td>0.058326</td>\n",
       "      <td>1.067563</td>\n",
       "    </tr>\n",
       "  </tbody>\n",
       "</table>\n",
       "</div>"
      ],
      "text/plain": [
       "                                    Name  Error       ECE       MCE      Loss\n",
       "0              cifar/probs_resnet110_c10   6.41  0.046431  0.324513  0.337798\n",
       "1        cifar/probs_resnet110_c10_calib   6.41  0.006597  0.190398  0.207832\n",
       "2             cifar/probs_resnet110_c100  29.10  0.182158  0.404514  1.678411\n",
       "3       cifar/probs_resnet110_c100_calib  29.10  0.016323  0.055490  1.108074\n",
       "4           wide/probs_resnet_wide32_c10   6.20  0.047312  0.367806  0.371005\n",
       "5     wide/probs_resnet_wide32_c10_calib   6.20  0.008058  0.251238  0.186995\n",
       "6          wide/probs_resnet_wide32_c100  26.26  0.189160  0.442255  1.802477\n",
       "7    wide/probs_resnet_wide32_c100_calib  26.26  0.014632  0.054702  0.941676\n",
       "8          densenet/probs_densenet40_c10   7.10  0.051972  0.354940  0.410250\n",
       "9    densenet/probs_densenet40_c10_calib   7.10  0.009334  0.096582  0.216684\n",
       "10        densenet/probs_densenet40_c100  30.08  0.213435  0.447594  2.046467\n",
       "11  densenet/probs_densenet40_c100_calib  30.08  0.009959  0.058326  1.067563"
      ]
     },
     "execution_count": 6,
     "metadata": {},
     "output_type": "execute_result"
    }
   ],
   "source": [
    "df_temp_scale"
   ]
  },
  {
   "cell_type": "markdown",
   "metadata": {},
   "source": [
    "## Dataframe with results "
   ]
  },
  {
   "cell_type": "code",
   "execution_count": 7,
   "metadata": {},
   "outputs": [],
   "source": [
    "dfs = [df_iso, df_temp_scale]\n",
    "names = [\"Name\", \"Uncalibrated\", \"Isotonic Regression\", \"Temperature Scaling\"]\n",
    "\n",
    "\n",
    "def get_dataframe(dfs, column, names):\n",
    "\n",
    "    df_res = pd.DataFrame(columns=names)\n",
    "\n",
    "    for i in range(1, len(df_iso), 2):\n",
    "\n",
    "        name = dfs[0].iloc[i-1][\"Name\"] # Get name of method\n",
    "        uncalibrated = dfs[0].iloc[i-1][column]  # Get uncalibrated score\n",
    "\n",
    "        row = [name, uncalibrated]  # Add scores to row\n",
    "\n",
    "        for df in dfs:\n",
    "            row.append(df.iloc[i][column])\n",
    "\n",
    "        df_res.loc[(i-1)//2] = row\n",
    "    \n",
    "    df_res.set_index('Name', inplace = True)\n",
    "        \n",
    "    return df_res"
   ]
  },
  {
   "cell_type": "code",
   "execution_count": 8,
   "metadata": {},
   "outputs": [],
   "source": [
    "df_error = get_dataframe(dfs, \"Error\", names)\n",
    "df_ece = get_dataframe(dfs, \"ECE\", names)\n",
    "df_mce = get_dataframe(dfs, \"MCE\", names)\n",
    "df_loss = get_dataframe(dfs, \"Loss\", names)"
   ]
  },
  {
   "cell_type": "markdown",
   "metadata": {},
   "source": [
    "## Scores"
   ]
  },
  {
   "cell_type": "code",
   "execution_count": 9,
   "metadata": {},
   "outputs": [],
   "source": [
    "def highlight_min(s):\n",
    "    '''\n",
    "    highlight the min in a Series yellow.\n",
    "    '''\n",
    "    is_max = s == s.min()\n",
    "    return ['background-color: yellow' if v else '' for v in is_max]"
   ]
  },
  {
   "cell_type": "markdown",
   "metadata": {},
   "source": [
    "## Error Rate"
   ]
  },
  {
   "cell_type": "code",
   "execution_count": 10,
   "metadata": {},
   "outputs": [
    {
     "data": {
      "text/html": [
       "<style  type=\"text/css\" >\n",
       "    #T_1326d526_6b48_11e8_94e1_3c15c2e8e978row0_col1 {\n",
       "            background-color:  yellow;\n",
       "        }    #T_1326d526_6b48_11e8_94e1_3c15c2e8e978row1_col0 {\n",
       "            background-color:  yellow;\n",
       "        }    #T_1326d526_6b48_11e8_94e1_3c15c2e8e978row1_col2 {\n",
       "            background-color:  yellow;\n",
       "        }    #T_1326d526_6b48_11e8_94e1_3c15c2e8e978row2_col1 {\n",
       "            background-color:  yellow;\n",
       "        }    #T_1326d526_6b48_11e8_94e1_3c15c2e8e978row3_col1 {\n",
       "            background-color:  yellow;\n",
       "        }    #T_1326d526_6b48_11e8_94e1_3c15c2e8e978row4_col0 {\n",
       "            background-color:  yellow;\n",
       "        }    #T_1326d526_6b48_11e8_94e1_3c15c2e8e978row4_col1 {\n",
       "            background-color:  yellow;\n",
       "        }    #T_1326d526_6b48_11e8_94e1_3c15c2e8e978row4_col2 {\n",
       "            background-color:  yellow;\n",
       "        }    #T_1326d526_6b48_11e8_94e1_3c15c2e8e978row5_col0 {\n",
       "            background-color:  yellow;\n",
       "        }    #T_1326d526_6b48_11e8_94e1_3c15c2e8e978row5_col2 {\n",
       "            background-color:  yellow;\n",
       "        }</style>  \n",
       "<table id=\"T_1326d526_6b48_11e8_94e1_3c15c2e8e978\" > \n",
       "<thead>    <tr> \n",
       "        <th class=\"blank level0\" ></th> \n",
       "        <th class=\"col_heading level0 col0\" >Uncalibrated</th> \n",
       "        <th class=\"col_heading level0 col1\" >Isotonic Regression</th> \n",
       "        <th class=\"col_heading level0 col2\" >Temperature Scaling</th> \n",
       "    </tr>    <tr> \n",
       "        <th class=\"index_name level0\" >Name</th> \n",
       "        <th class=\"blank\" ></th> \n",
       "        <th class=\"blank\" ></th> \n",
       "        <th class=\"blank\" ></th> \n",
       "    </tr></thead> \n",
       "<tbody>    <tr> \n",
       "        <th id=\"T_1326d526_6b48_11e8_94e1_3c15c2e8e978level0_row0\" class=\"row_heading level0 row0\" >cifar/probs_resnet110_c10</th> \n",
       "        <td id=\"T_1326d526_6b48_11e8_94e1_3c15c2e8e978row0_col0\" class=\"data row0 col0\" >6.41</td> \n",
       "        <td id=\"T_1326d526_6b48_11e8_94e1_3c15c2e8e978row0_col1\" class=\"data row0 col1\" >6.35</td> \n",
       "        <td id=\"T_1326d526_6b48_11e8_94e1_3c15c2e8e978row0_col2\" class=\"data row0 col2\" >6.41</td> \n",
       "    </tr>    <tr> \n",
       "        <th id=\"T_1326d526_6b48_11e8_94e1_3c15c2e8e978level0_row1\" class=\"row_heading level0 row1\" >cifar/probs_resnet110_c100</th> \n",
       "        <td id=\"T_1326d526_6b48_11e8_94e1_3c15c2e8e978row1_col0\" class=\"data row1 col0\" >29.1</td> \n",
       "        <td id=\"T_1326d526_6b48_11e8_94e1_3c15c2e8e978row1_col1\" class=\"data row1 col1\" >29.81</td> \n",
       "        <td id=\"T_1326d526_6b48_11e8_94e1_3c15c2e8e978row1_col2\" class=\"data row1 col2\" >29.1</td> \n",
       "    </tr>    <tr> \n",
       "        <th id=\"T_1326d526_6b48_11e8_94e1_3c15c2e8e978level0_row2\" class=\"row_heading level0 row2\" >wide/probs_resnet_wide32_c10</th> \n",
       "        <td id=\"T_1326d526_6b48_11e8_94e1_3c15c2e8e978row2_col0\" class=\"data row2 col0\" >6.2</td> \n",
       "        <td id=\"T_1326d526_6b48_11e8_94e1_3c15c2e8e978row2_col1\" class=\"data row2 col1\" >6.05</td> \n",
       "        <td id=\"T_1326d526_6b48_11e8_94e1_3c15c2e8e978row2_col2\" class=\"data row2 col2\" >6.2</td> \n",
       "    </tr>    <tr> \n",
       "        <th id=\"T_1326d526_6b48_11e8_94e1_3c15c2e8e978level0_row3\" class=\"row_heading level0 row3\" >wide/probs_resnet_wide32_c100</th> \n",
       "        <td id=\"T_1326d526_6b48_11e8_94e1_3c15c2e8e978row3_col0\" class=\"data row3 col0\" >26.26</td> \n",
       "        <td id=\"T_1326d526_6b48_11e8_94e1_3c15c2e8e978row3_col1\" class=\"data row3 col1\" >26.25</td> \n",
       "        <td id=\"T_1326d526_6b48_11e8_94e1_3c15c2e8e978row3_col2\" class=\"data row3 col2\" >26.26</td> \n",
       "    </tr>    <tr> \n",
       "        <th id=\"T_1326d526_6b48_11e8_94e1_3c15c2e8e978level0_row4\" class=\"row_heading level0 row4\" >densenet/probs_densenet40_c10</th> \n",
       "        <td id=\"T_1326d526_6b48_11e8_94e1_3c15c2e8e978row4_col0\" class=\"data row4 col0\" >7.1</td> \n",
       "        <td id=\"T_1326d526_6b48_11e8_94e1_3c15c2e8e978row4_col1\" class=\"data row4 col1\" >7.1</td> \n",
       "        <td id=\"T_1326d526_6b48_11e8_94e1_3c15c2e8e978row4_col2\" class=\"data row4 col2\" >7.1</td> \n",
       "    </tr>    <tr> \n",
       "        <th id=\"T_1326d526_6b48_11e8_94e1_3c15c2e8e978level0_row5\" class=\"row_heading level0 row5\" >densenet/probs_densenet40_c100</th> \n",
       "        <td id=\"T_1326d526_6b48_11e8_94e1_3c15c2e8e978row5_col0\" class=\"data row5 col0\" >30.08</td> \n",
       "        <td id=\"T_1326d526_6b48_11e8_94e1_3c15c2e8e978row5_col1\" class=\"data row5 col1\" >30.67</td> \n",
       "        <td id=\"T_1326d526_6b48_11e8_94e1_3c15c2e8e978row5_col2\" class=\"data row5 col2\" >30.08</td> \n",
       "    </tr></tbody> \n",
       "</table> "
      ],
      "text/plain": [
       "<pandas.io.formats.style.Styler at 0x1a1338ead0>"
      ]
     },
     "execution_count": 10,
     "metadata": {},
     "output_type": "execute_result"
    }
   ],
   "source": [
    "df_error.style.apply(highlight_min, axis = 1)"
   ]
  },
  {
   "cell_type": "markdown",
   "metadata": {},
   "source": [
    "## ECE"
   ]
  },
  {
   "cell_type": "code",
   "execution_count": 11,
   "metadata": {},
   "outputs": [
    {
     "data": {
      "text/html": [
       "<style  type=\"text/css\" >\n",
       "    #T_133073f5_6b48_11e8_8172_3c15c2e8e978row0_col2 {\n",
       "            background-color:  yellow;\n",
       "        }    #T_133073f5_6b48_11e8_8172_3c15c2e8e978row1_col2 {\n",
       "            background-color:  yellow;\n",
       "        }    #T_133073f5_6b48_11e8_8172_3c15c2e8e978row2_col2 {\n",
       "            background-color:  yellow;\n",
       "        }    #T_133073f5_6b48_11e8_8172_3c15c2e8e978row3_col2 {\n",
       "            background-color:  yellow;\n",
       "        }    #T_133073f5_6b48_11e8_8172_3c15c2e8e978row4_col2 {\n",
       "            background-color:  yellow;\n",
       "        }    #T_133073f5_6b48_11e8_8172_3c15c2e8e978row5_col2 {\n",
       "            background-color:  yellow;\n",
       "        }</style>  \n",
       "<table id=\"T_133073f5_6b48_11e8_8172_3c15c2e8e978\" > \n",
       "<thead>    <tr> \n",
       "        <th class=\"blank level0\" ></th> \n",
       "        <th class=\"col_heading level0 col0\" >Uncalibrated</th> \n",
       "        <th class=\"col_heading level0 col1\" >Isotonic Regression</th> \n",
       "        <th class=\"col_heading level0 col2\" >Temperature Scaling</th> \n",
       "    </tr>    <tr> \n",
       "        <th class=\"index_name level0\" >Name</th> \n",
       "        <th class=\"blank\" ></th> \n",
       "        <th class=\"blank\" ></th> \n",
       "        <th class=\"blank\" ></th> \n",
       "    </tr></thead> \n",
       "<tbody>    <tr> \n",
       "        <th id=\"T_133073f5_6b48_11e8_8172_3c15c2e8e978level0_row0\" class=\"row_heading level0 row0\" >cifar/probs_resnet110_c10</th> \n",
       "        <td id=\"T_133073f5_6b48_11e8_8172_3c15c2e8e978row0_col0\" class=\"data row0 col0\" >0.0464306</td> \n",
       "        <td id=\"T_133073f5_6b48_11e8_8172_3c15c2e8e978row0_col1\" class=\"data row0 col1\" >0.0119079</td> \n",
       "        <td id=\"T_133073f5_6b48_11e8_8172_3c15c2e8e978row0_col2\" class=\"data row0 col2\" >0.00659679</td> \n",
       "    </tr>    <tr> \n",
       "        <th id=\"T_133073f5_6b48_11e8_8172_3c15c2e8e978level0_row1\" class=\"row_heading level0 row1\" >cifar/probs_resnet110_c100</th> \n",
       "        <td id=\"T_133073f5_6b48_11e8_8172_3c15c2e8e978row1_col0\" class=\"data row1 col0\" >0.182158</td> \n",
       "        <td id=\"T_133073f5_6b48_11e8_8172_3c15c2e8e978row1_col1\" class=\"data row1 col1\" >0.0630511</td> \n",
       "        <td id=\"T_133073f5_6b48_11e8_8172_3c15c2e8e978row1_col2\" class=\"data row1 col2\" >0.0163234</td> \n",
       "    </tr>    <tr> \n",
       "        <th id=\"T_133073f5_6b48_11e8_8172_3c15c2e8e978level0_row2\" class=\"row_heading level0 row2\" >wide/probs_resnet_wide32_c10</th> \n",
       "        <td id=\"T_133073f5_6b48_11e8_8172_3c15c2e8e978row2_col0\" class=\"data row2 col0\" >0.0473118</td> \n",
       "        <td id=\"T_133073f5_6b48_11e8_8172_3c15c2e8e978row2_col1\" class=\"data row2 col1\" >0.0104662</td> \n",
       "        <td id=\"T_133073f5_6b48_11e8_8172_3c15c2e8e978row2_col2\" class=\"data row2 col2\" >0.00805839</td> \n",
       "    </tr>    <tr> \n",
       "        <th id=\"T_133073f5_6b48_11e8_8172_3c15c2e8e978level0_row3\" class=\"row_heading level0 row3\" >wide/probs_resnet_wide32_c100</th> \n",
       "        <td id=\"T_133073f5_6b48_11e8_8172_3c15c2e8e978row3_col0\" class=\"data row3 col0\" >0.18916</td> \n",
       "        <td id=\"T_133073f5_6b48_11e8_8172_3c15c2e8e978row3_col1\" class=\"data row3 col1\" >0.057913</td> \n",
       "        <td id=\"T_133073f5_6b48_11e8_8172_3c15c2e8e978row3_col2\" class=\"data row3 col2\" >0.014632</td> \n",
       "    </tr>    <tr> \n",
       "        <th id=\"T_133073f5_6b48_11e8_8172_3c15c2e8e978level0_row4\" class=\"row_heading level0 row4\" >densenet/probs_densenet40_c10</th> \n",
       "        <td id=\"T_133073f5_6b48_11e8_8172_3c15c2e8e978row4_col0\" class=\"data row4 col0\" >0.0519722</td> \n",
       "        <td id=\"T_133073f5_6b48_11e8_8172_3c15c2e8e978row4_col1\" class=\"data row4 col1\" >0.0121831</td> \n",
       "        <td id=\"T_133073f5_6b48_11e8_8172_3c15c2e8e978row4_col2\" class=\"data row4 col2\" >0.00933419</td> \n",
       "    </tr>    <tr> \n",
       "        <th id=\"T_133073f5_6b48_11e8_8172_3c15c2e8e978level0_row5\" class=\"row_heading level0 row5\" >densenet/probs_densenet40_c100</th> \n",
       "        <td id=\"T_133073f5_6b48_11e8_8172_3c15c2e8e978row5_col0\" class=\"data row5 col0\" >0.213435</td> \n",
       "        <td id=\"T_133073f5_6b48_11e8_8172_3c15c2e8e978row5_col1\" class=\"data row5 col1\" >0.0636392</td> \n",
       "        <td id=\"T_133073f5_6b48_11e8_8172_3c15c2e8e978row5_col2\" class=\"data row5 col2\" >0.00995869</td> \n",
       "    </tr></tbody> \n",
       "</table> "
      ],
      "text/plain": [
       "<pandas.io.formats.style.Styler at 0x1a14cbc8d0>"
      ]
     },
     "execution_count": 11,
     "metadata": {},
     "output_type": "execute_result"
    }
   ],
   "source": [
    "df_ece.style.apply(highlight_min, axis = 1)"
   ]
  },
  {
   "cell_type": "markdown",
   "metadata": {},
   "source": [
    "## MCE"
   ]
  },
  {
   "cell_type": "code",
   "execution_count": 12,
   "metadata": {},
   "outputs": [
    {
     "data": {
      "text/html": [
       "<style  type=\"text/css\" >\n",
       "    #T_1335cc21_6b48_11e8_a999_3c15c2e8e978row0_col1 {\n",
       "            background-color:  yellow;\n",
       "        }    #T_1335cc21_6b48_11e8_a999_3c15c2e8e978row1_col2 {\n",
       "            background-color:  yellow;\n",
       "        }    #T_1335cc21_6b48_11e8_a999_3c15c2e8e978row2_col1 {\n",
       "            background-color:  yellow;\n",
       "        }    #T_1335cc21_6b48_11e8_a999_3c15c2e8e978row3_col2 {\n",
       "            background-color:  yellow;\n",
       "        }    #T_1335cc21_6b48_11e8_a999_3c15c2e8e978row4_col2 {\n",
       "            background-color:  yellow;\n",
       "        }    #T_1335cc21_6b48_11e8_a999_3c15c2e8e978row5_col2 {\n",
       "            background-color:  yellow;\n",
       "        }</style>  \n",
       "<table id=\"T_1335cc21_6b48_11e8_a999_3c15c2e8e978\" > \n",
       "<thead>    <tr> \n",
       "        <th class=\"blank level0\" ></th> \n",
       "        <th class=\"col_heading level0 col0\" >Uncalibrated</th> \n",
       "        <th class=\"col_heading level0 col1\" >Isotonic Regression</th> \n",
       "        <th class=\"col_heading level0 col2\" >Temperature Scaling</th> \n",
       "    </tr>    <tr> \n",
       "        <th class=\"index_name level0\" >Name</th> \n",
       "        <th class=\"blank\" ></th> \n",
       "        <th class=\"blank\" ></th> \n",
       "        <th class=\"blank\" ></th> \n",
       "    </tr></thead> \n",
       "<tbody>    <tr> \n",
       "        <th id=\"T_1335cc21_6b48_11e8_a999_3c15c2e8e978level0_row0\" class=\"row_heading level0 row0\" >cifar/probs_resnet110_c10</th> \n",
       "        <td id=\"T_1335cc21_6b48_11e8_a999_3c15c2e8e978row0_col0\" class=\"data row0 col0\" >0.324513</td> \n",
       "        <td id=\"T_1335cc21_6b48_11e8_a999_3c15c2e8e978row0_col1\" class=\"data row0 col1\" >0.133175</td> \n",
       "        <td id=\"T_1335cc21_6b48_11e8_a999_3c15c2e8e978row0_col2\" class=\"data row0 col2\" >0.190398</td> \n",
       "    </tr>    <tr> \n",
       "        <th id=\"T_1335cc21_6b48_11e8_a999_3c15c2e8e978level0_row1\" class=\"row_heading level0 row1\" >cifar/probs_resnet110_c100</th> \n",
       "        <td id=\"T_1335cc21_6b48_11e8_a999_3c15c2e8e978row1_col0\" class=\"data row1 col0\" >0.404514</td> \n",
       "        <td id=\"T_1335cc21_6b48_11e8_a999_3c15c2e8e978row1_col1\" class=\"data row1 col1\" >0.135451</td> \n",
       "        <td id=\"T_1335cc21_6b48_11e8_a999_3c15c2e8e978row1_col2\" class=\"data row1 col2\" >0.0554897</td> \n",
       "    </tr>    <tr> \n",
       "        <th id=\"T_1335cc21_6b48_11e8_a999_3c15c2e8e978level0_row2\" class=\"row_heading level0 row2\" >wide/probs_resnet_wide32_c10</th> \n",
       "        <td id=\"T_1335cc21_6b48_11e8_a999_3c15c2e8e978row2_col0\" class=\"data row2 col0\" >0.367806</td> \n",
       "        <td id=\"T_1335cc21_6b48_11e8_a999_3c15c2e8e978row2_col1\" class=\"data row2 col1\" >0.0834937</td> \n",
       "        <td id=\"T_1335cc21_6b48_11e8_a999_3c15c2e8e978row2_col2\" class=\"data row2 col2\" >0.251238</td> \n",
       "    </tr>    <tr> \n",
       "        <th id=\"T_1335cc21_6b48_11e8_a999_3c15c2e8e978level0_row3\" class=\"row_heading level0 row3\" >wide/probs_resnet_wide32_c100</th> \n",
       "        <td id=\"T_1335cc21_6b48_11e8_a999_3c15c2e8e978row3_col0\" class=\"data row3 col0\" >0.442255</td> \n",
       "        <td id=\"T_1335cc21_6b48_11e8_a999_3c15c2e8e978row3_col1\" class=\"data row3 col1\" >0.149843</td> \n",
       "        <td id=\"T_1335cc21_6b48_11e8_a999_3c15c2e8e978row3_col2\" class=\"data row3 col2\" >0.0547023</td> \n",
       "    </tr>    <tr> \n",
       "        <th id=\"T_1335cc21_6b48_11e8_a999_3c15c2e8e978level0_row4\" class=\"row_heading level0 row4\" >densenet/probs_densenet40_c10</th> \n",
       "        <td id=\"T_1335cc21_6b48_11e8_a999_3c15c2e8e978row4_col0\" class=\"data row4 col0\" >0.35494</td> \n",
       "        <td id=\"T_1335cc21_6b48_11e8_a999_3c15c2e8e978row4_col1\" class=\"data row4 col1\" >0.265471</td> \n",
       "        <td id=\"T_1335cc21_6b48_11e8_a999_3c15c2e8e978row4_col2\" class=\"data row4 col2\" >0.096582</td> \n",
       "    </tr>    <tr> \n",
       "        <th id=\"T_1335cc21_6b48_11e8_a999_3c15c2e8e978level0_row5\" class=\"row_heading level0 row5\" >densenet/probs_densenet40_c100</th> \n",
       "        <td id=\"T_1335cc21_6b48_11e8_a999_3c15c2e8e978row5_col0\" class=\"data row5 col0\" >0.447594</td> \n",
       "        <td id=\"T_1335cc21_6b48_11e8_a999_3c15c2e8e978row5_col1\" class=\"data row5 col1\" >0.134847</td> \n",
       "        <td id=\"T_1335cc21_6b48_11e8_a999_3c15c2e8e978row5_col2\" class=\"data row5 col2\" >0.0583265</td> \n",
       "    </tr></tbody> \n",
       "</table> "
      ],
      "text/plain": [
       "<pandas.io.formats.style.Styler at 0x1a14cbca10>"
      ]
     },
     "execution_count": 12,
     "metadata": {},
     "output_type": "execute_result"
    }
   ],
   "source": [
    "df_mce.style.apply(highlight_min, axis = 1)"
   ]
  },
  {
   "cell_type": "markdown",
   "metadata": {},
   "source": [
    "## Loss"
   ]
  },
  {
   "cell_type": "code",
   "execution_count": 13,
   "metadata": {},
   "outputs": [
    {
     "data": {
      "text/html": [
       "<style  type=\"text/css\" >\n",
       "    #T_133bfe42_6b48_11e8_beea_3c15c2e8e978row0_col2 {\n",
       "            background-color:  yellow;\n",
       "        }    #T_133bfe42_6b48_11e8_beea_3c15c2e8e978row1_col2 {\n",
       "            background-color:  yellow;\n",
       "        }    #T_133bfe42_6b48_11e8_beea_3c15c2e8e978row2_col2 {\n",
       "            background-color:  yellow;\n",
       "        }    #T_133bfe42_6b48_11e8_beea_3c15c2e8e978row3_col2 {\n",
       "            background-color:  yellow;\n",
       "        }    #T_133bfe42_6b48_11e8_beea_3c15c2e8e978row4_col2 {\n",
       "            background-color:  yellow;\n",
       "        }    #T_133bfe42_6b48_11e8_beea_3c15c2e8e978row5_col2 {\n",
       "            background-color:  yellow;\n",
       "        }</style>  \n",
       "<table id=\"T_133bfe42_6b48_11e8_beea_3c15c2e8e978\" > \n",
       "<thead>    <tr> \n",
       "        <th class=\"blank level0\" ></th> \n",
       "        <th class=\"col_heading level0 col0\" >Uncalibrated</th> \n",
       "        <th class=\"col_heading level0 col1\" >Isotonic Regression</th> \n",
       "        <th class=\"col_heading level0 col2\" >Temperature Scaling</th> \n",
       "    </tr>    <tr> \n",
       "        <th class=\"index_name level0\" >Name</th> \n",
       "        <th class=\"blank\" ></th> \n",
       "        <th class=\"blank\" ></th> \n",
       "        <th class=\"blank\" ></th> \n",
       "    </tr></thead> \n",
       "<tbody>    <tr> \n",
       "        <th id=\"T_133bfe42_6b48_11e8_beea_3c15c2e8e978level0_row0\" class=\"row_heading level0 row0\" >cifar/probs_resnet110_c10</th> \n",
       "        <td id=\"T_133bfe42_6b48_11e8_beea_3c15c2e8e978row0_col0\" class=\"data row0 col0\" >0.337798</td> \n",
       "        <td id=\"T_133bfe42_6b48_11e8_beea_3c15c2e8e978row0_col1\" class=\"data row0 col1\" >0.272972</td> \n",
       "        <td id=\"T_133bfe42_6b48_11e8_beea_3c15c2e8e978row0_col2\" class=\"data row0 col2\" >0.207832</td> \n",
       "    </tr>    <tr> \n",
       "        <th id=\"T_133bfe42_6b48_11e8_beea_3c15c2e8e978level0_row1\" class=\"row_heading level0 row1\" >cifar/probs_resnet110_c100</th> \n",
       "        <td id=\"T_133bfe42_6b48_11e8_beea_3c15c2e8e978row1_col0\" class=\"data row1 col0\" >1.67841</td> \n",
       "        <td id=\"T_133bfe42_6b48_11e8_beea_3c15c2e8e978row1_col1\" class=\"data row1 col1\" >1.9264</td> \n",
       "        <td id=\"T_133bfe42_6b48_11e8_beea_3c15c2e8e978row1_col2\" class=\"data row1 col2\" >1.10807</td> \n",
       "    </tr>    <tr> \n",
       "        <th id=\"T_133bfe42_6b48_11e8_beea_3c15c2e8e978level0_row2\" class=\"row_heading level0 row2\" >wide/probs_resnet_wide32_c10</th> \n",
       "        <td id=\"T_133bfe42_6b48_11e8_beea_3c15c2e8e978row2_col0\" class=\"data row2 col0\" >0.371005</td> \n",
       "        <td id=\"T_133bfe42_6b48_11e8_beea_3c15c2e8e978row2_col1\" class=\"data row2 col1\" >0.217106</td> \n",
       "        <td id=\"T_133bfe42_6b48_11e8_beea_3c15c2e8e978row2_col2\" class=\"data row2 col2\" >0.186995</td> \n",
       "    </tr>    <tr> \n",
       "        <th id=\"T_133bfe42_6b48_11e8_beea_3c15c2e8e978level0_row3\" class=\"row_heading level0 row3\" >wide/probs_resnet_wide32_c100</th> \n",
       "        <td id=\"T_133bfe42_6b48_11e8_beea_3c15c2e8e978row3_col0\" class=\"data row3 col0\" >1.80248</td> \n",
       "        <td id=\"T_133bfe42_6b48_11e8_beea_3c15c2e8e978row3_col1\" class=\"data row3 col1\" >1.52691</td> \n",
       "        <td id=\"T_133bfe42_6b48_11e8_beea_3c15c2e8e978row3_col2\" class=\"data row3 col2\" >0.941676</td> \n",
       "    </tr>    <tr> \n",
       "        <th id=\"T_133bfe42_6b48_11e8_beea_3c15c2e8e978level0_row4\" class=\"row_heading level0 row4\" >densenet/probs_densenet40_c10</th> \n",
       "        <td id=\"T_133bfe42_6b48_11e8_beea_3c15c2e8e978row4_col0\" class=\"data row4 col0\" >0.41025</td> \n",
       "        <td id=\"T_133bfe42_6b48_11e8_beea_3c15c2e8e978row4_col1\" class=\"data row4 col1\" >0.281433</td> \n",
       "        <td id=\"T_133bfe42_6b48_11e8_beea_3c15c2e8e978row4_col2\" class=\"data row4 col2\" >0.216684</td> \n",
       "    </tr>    <tr> \n",
       "        <th id=\"T_133bfe42_6b48_11e8_beea_3c15c2e8e978level0_row5\" class=\"row_heading level0 row5\" >densenet/probs_densenet40_c100</th> \n",
       "        <td id=\"T_133bfe42_6b48_11e8_beea_3c15c2e8e978row5_col0\" class=\"data row5 col0\" >2.04647</td> \n",
       "        <td id=\"T_133bfe42_6b48_11e8_beea_3c15c2e8e978row5_col1\" class=\"data row5 col1\" >1.76232</td> \n",
       "        <td id=\"T_133bfe42_6b48_11e8_beea_3c15c2e8e978row5_col2\" class=\"data row5 col2\" >1.06756</td> \n",
       "    </tr></tbody> \n",
       "</table> "
      ],
      "text/plain": [
       "<pandas.io.formats.style.Styler at 0x1a14cbcb10>"
      ]
     },
     "execution_count": 13,
     "metadata": {},
     "output_type": "execute_result"
    }
   ],
   "source": [
    "df_loss.style.apply(highlight_min, axis = 1)"
   ]
  },
  {
   "cell_type": "code",
   "execution_count": null,
   "metadata": {},
   "outputs": [],
   "source": []
  }
 ],
 "metadata": {
  "kernelspec": {
   "display_name": "Python 2",
   "language": "python",
   "name": "python2"
  },
  "language_info": {
   "codemirror_mode": {
    "name": "ipython",
    "version": 2
   },
   "file_extension": ".py",
   "mimetype": "text/x-python",
   "name": "python",
   "nbconvert_exporter": "python",
   "pygments_lexer": "ipython2",
   "version": "2.7.15"
  }
 },
 "nbformat": 4,
 "nbformat_minor": 2
}
