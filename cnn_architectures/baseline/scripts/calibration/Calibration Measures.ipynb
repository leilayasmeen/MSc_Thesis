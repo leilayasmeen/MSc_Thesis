{
 "cells": [
  {
   "cell_type": "markdown",
   "metadata": {},
   "source": [
    "# Calibration"
   ]
  },
  {
   "cell_type": "markdown",
   "metadata": {},
   "source": [
    "Evaluating calibration methods on convolutional neural networks."
   ]
  },
  {
   "cell_type": "code",
   "execution_count": 1,
   "metadata": {},
   "outputs": [
    {
     "name": "stderr",
     "output_type": "stream",
     "text": [
      "Using TensorFlow backend.\n"
     ]
    }
   ],
   "source": [
    "import numpy as np\n",
    "import pandas as pd\n",
    "from os.path import join\n",
    "from sklearn.isotonic import IsotonicRegression\n",
    "from sklearn.linear_model import LogisticRegression\n",
    "from cal_methods import TemperatureScaling, evaluate, softmax, cal_results"
   ]
  },
  {
   "cell_type": "markdown",
   "metadata": {},
   "source": [
    "Paths to files with logits."
   ]
  },
  {
   "cell_type": "code",
   "execution_count": 2,
   "metadata": {},
   "outputs": [],
   "source": [
    "PATH = '/Users/wildflowerlyi/Desktop/Github/NN_calibration/scripts'\n",
    "files = ('resnet_cifar/probs_resnet110_c10_logits.p'\n",
    "        , 'resnet_wide/probs_resnet_wide32_c10_logits.p'\n",
    "        , 'resnet_densenet/probs_densenet40_c10_logits.p'\n",
    "        ,'resnet_cifar/probs_resnet110_c10clip_logits.p'\n",
    "        ,'resnet_wide/probs_resnet_wide32_c10clip_logits.p'\n",
    "        #,'resnet_sd/probs_resnet110_SD_c10clip_logits.p'\n",
    "        ,'resnet_densenet/probs_densenet40_c10clip_logits.p'\n",
    "        #,'resnet_cifar/probs_resnet110_c100_logits.p'\n",
    "        #,'resnet_wide/probs_resnet_wide32_c100_logits.p'\n",
    "        #,'resnet_densenet/probs_densenet40_c100_logits.p'\n",
    "        #,'resnet_wide/probs_resnet_wide32_c100clip_logits.p'    \n",
    "        )"
   ]
  },
  {
   "cell_type": "markdown",
   "metadata": {},
   "source": [
    "### Isotonic Regression"
   ]
  },
  {
   "cell_type": "code",
   "execution_count": 3,
   "metadata": {
    "scrolled": true
   },
   "outputs": [
    {
     "name": "stdout",
     "output_type": "stream",
     "text": [
      "cifar/probs_resnet110_c10\n",
      "('Accuracy:', 93.489999999999995)\n",
      "('Error:', 6.5100000000000051)\n",
      "('ECE:', 0.045524321058392554)\n",
      "('MCE:', 0.31361674944559731)\n",
      "('Loss:', 0.3370770369223714)\n",
      "wide/probs_resnet_wide32_c10\n",
      "('Accuracy:', 93.799999999999997)\n",
      "('Error:', 6.2000000000000028)\n",
      "('ECE:', 0.047311796060204525)\n",
      "('MCE:', 0.3678059713045756)\n",
      "('Loss:', 0.37100536326453859)\n",
      "densenet/probs_densenet40_c10\n",
      "('Accuracy:', 92.900000000000006)\n",
      "('Error:', 7.0999999999999943)\n",
      "('ECE:', 0.051972183519601804)\n",
      "('MCE:', 0.35494045674345875)\n",
      "('Loss:', 0.41025025195239284)\n",
      "cifar/probs_resnet110_c10clip\n",
      "('Accuracy:', 93.430000000000007)\n",
      "('Error:', 6.5699999999999932)\n",
      "('ECE:', 0.04945112048983577)\n",
      "('MCE:', 0.32907301187515259)\n",
      "('Loss:', 0.37601464391059347)\n",
      "wide/probs_resnet_wide32_c10clip\n",
      "('Accuracy:', 94.040000000000006)\n",
      "('Error:', 5.9599999999999937)\n",
      "('ECE:', 0.044856612253189064)\n",
      "('MCE:', 0.31552806931237376)\n",
      "('Loss:', 0.35969095881889424)\n",
      "densenet/probs_densenet40_c10clip\n",
      "('Accuracy:', 93.109999999999999)\n",
      "('Error:', 6.8900000000000006)\n",
      "('ECE:', 0.050258812770247421)\n",
      "('MCE:', 0.2948208893167561)\n",
      "('Loss:', 0.40501787487553592)\n"
     ]
    }
   ],
   "source": [
    "df_iso = cal_results(IsotonicRegression, PATH, files, {'y_min':0, 'y_max':1}, approach = \"single\")"
   ]
  },
  {
   "cell_type": "markdown",
   "metadata": {},
   "source": [
    "### Temperature scaling"
   ]
  },
  {
   "cell_type": "code",
   "execution_count": 4,
   "metadata": {
    "scrolled": true
   },
   "outputs": [
    {
     "name": "stdout",
     "output_type": "stream",
     "text": [
      "cifar/probs_resnet110_c10\n",
      "('Accuracy:', 93.489999999999995)\n",
      "('Error:', 6.5100000000000051)\n",
      "('ECE:', 0.045524321058392554)\n",
      "('MCE:', 0.31361674944559731)\n",
      "('Loss:', 0.3370770369223714)\n",
      "wide/probs_resnet_wide32_c10\n",
      "('Accuracy:', 93.799999999999997)\n",
      "('Error:', 6.2000000000000028)\n",
      "('ECE:', 0.047311796060204525)\n",
      "('MCE:', 0.3678059713045756)\n",
      "('Loss:', 0.37100536326453859)\n",
      "densenet/probs_densenet40_c10\n",
      "('Accuracy:', 92.900000000000006)\n",
      "('Error:', 7.0999999999999943)\n",
      "('ECE:', 0.051972183519601804)\n",
      "('MCE:', 0.35494045674345875)\n",
      "('Loss:', 0.41025025195239284)\n",
      "cifar/probs_resnet110_c10clip\n",
      "('Accuracy:', 93.430000000000007)\n",
      "('Error:', 6.5699999999999932)\n",
      "('ECE:', 0.04945112048983577)\n",
      "('MCE:', 0.32907301187515259)\n",
      "('Loss:', 0.37601464391059347)\n",
      "wide/probs_resnet_wide32_c10clip\n",
      "('Accuracy:', 94.040000000000006)\n",
      "('Error:', 5.9599999999999937)\n",
      "('ECE:', 0.044856612253189064)\n",
      "('MCE:', 0.31552806931237376)\n",
      "('Loss:', 0.35969095881889424)\n",
      "densenet/probs_densenet40_c10clip\n",
      "('Accuracy:', 93.109999999999999)\n",
      "('Error:', 6.8900000000000006)\n",
      "('ECE:', 0.050258812770247421)\n",
      "('MCE:', 0.2948208893167561)\n",
      "('Loss:', 0.40501787487553592)\n"
     ]
    }
   ],
   "source": [
    "df_temp_scale = cal_results(TemperatureScaling, PATH, files, approach = \"all\")"
   ]
  },
  {
   "cell_type": "markdown",
   "metadata": {},
   "source": [
    "#### Calibrated scores for CIFAR datasets."
   ]
  },
  {
   "cell_type": "code",
   "execution_count": 5,
   "metadata": {},
   "outputs": [
    {
     "data": {
      "text/html": [
       "<div>\n",
       "<style scoped>\n",
       "    .dataframe tbody tr th:only-of-type {\n",
       "        vertical-align: middle;\n",
       "    }\n",
       "\n",
       "    .dataframe tbody tr th {\n",
       "        vertical-align: top;\n",
       "    }\n",
       "\n",
       "    .dataframe thead th {\n",
       "        text-align: right;\n",
       "    }\n",
       "</style>\n",
       "<table border=\"1\" class=\"dataframe\">\n",
       "  <thead>\n",
       "    <tr style=\"text-align: right;\">\n",
       "      <th></th>\n",
       "      <th>Name</th>\n",
       "      <th>Error</th>\n",
       "      <th>ECE</th>\n",
       "      <th>MCE</th>\n",
       "      <th>Loss</th>\n",
       "    </tr>\n",
       "  </thead>\n",
       "  <tbody>\n",
       "    <tr>\n",
       "      <th>0</th>\n",
       "      <td>cifar/probs_resnet110_c10</td>\n",
       "      <td>6.51</td>\n",
       "      <td>0.045524</td>\n",
       "      <td>0.313617</td>\n",
       "      <td>0.337077</td>\n",
       "    </tr>\n",
       "    <tr>\n",
       "      <th>1</th>\n",
       "      <td>cifar/probs_resnet110_c10_calib</td>\n",
       "      <td>6.41</td>\n",
       "      <td>0.012154</td>\n",
       "      <td>0.269047</td>\n",
       "      <td>0.259339</td>\n",
       "    </tr>\n",
       "    <tr>\n",
       "      <th>2</th>\n",
       "      <td>wide/probs_resnet_wide32_c10</td>\n",
       "      <td>6.20</td>\n",
       "      <td>0.047312</td>\n",
       "      <td>0.367806</td>\n",
       "      <td>0.371005</td>\n",
       "    </tr>\n",
       "    <tr>\n",
       "      <th>3</th>\n",
       "      <td>wide/probs_resnet_wide32_c10_calib</td>\n",
       "      <td>6.05</td>\n",
       "      <td>0.010466</td>\n",
       "      <td>0.083494</td>\n",
       "      <td>0.217106</td>\n",
       "    </tr>\n",
       "    <tr>\n",
       "      <th>4</th>\n",
       "      <td>densenet/probs_densenet40_c10</td>\n",
       "      <td>7.10</td>\n",
       "      <td>0.051972</td>\n",
       "      <td>0.354940</td>\n",
       "      <td>0.410250</td>\n",
       "    </tr>\n",
       "    <tr>\n",
       "      <th>5</th>\n",
       "      <td>densenet/probs_densenet40_c10_calib</td>\n",
       "      <td>7.10</td>\n",
       "      <td>0.012183</td>\n",
       "      <td>0.265471</td>\n",
       "      <td>0.281433</td>\n",
       "    </tr>\n",
       "    <tr>\n",
       "      <th>6</th>\n",
       "      <td>cifar/probs_resnet110_c10clip</td>\n",
       "      <td>6.57</td>\n",
       "      <td>0.049451</td>\n",
       "      <td>0.329073</td>\n",
       "      <td>0.376015</td>\n",
       "    </tr>\n",
       "    <tr>\n",
       "      <th>7</th>\n",
       "      <td>cifar/probs_resnet110_c10clip_calib</td>\n",
       "      <td>6.45</td>\n",
       "      <td>0.013637</td>\n",
       "      <td>0.098281</td>\n",
       "      <td>0.277402</td>\n",
       "    </tr>\n",
       "    <tr>\n",
       "      <th>8</th>\n",
       "      <td>wide/probs_resnet_wide32_c10clip</td>\n",
       "      <td>5.96</td>\n",
       "      <td>0.044857</td>\n",
       "      <td>0.315528</td>\n",
       "      <td>0.359691</td>\n",
       "    </tr>\n",
       "    <tr>\n",
       "      <th>9</th>\n",
       "      <td>wide/probs_resnet_wide32_c10clip_calib</td>\n",
       "      <td>5.68</td>\n",
       "      <td>0.012156</td>\n",
       "      <td>0.186214</td>\n",
       "      <td>0.232532</td>\n",
       "    </tr>\n",
       "    <tr>\n",
       "      <th>10</th>\n",
       "      <td>densenet/probs_densenet40_c10clip</td>\n",
       "      <td>6.89</td>\n",
       "      <td>0.050259</td>\n",
       "      <td>0.294821</td>\n",
       "      <td>0.405018</td>\n",
       "    </tr>\n",
       "    <tr>\n",
       "      <th>11</th>\n",
       "      <td>densenet/probs_densenet40_c10clip_calib</td>\n",
       "      <td>6.94</td>\n",
       "      <td>0.010380</td>\n",
       "      <td>0.115042</td>\n",
       "      <td>0.272771</td>\n",
       "    </tr>\n",
       "  </tbody>\n",
       "</table>\n",
       "</div>"
      ],
      "text/plain": [
       "                                       Name  Error       ECE       MCE  \\\n",
       "0                 cifar/probs_resnet110_c10   6.51  0.045524  0.313617   \n",
       "1           cifar/probs_resnet110_c10_calib   6.41  0.012154  0.269047   \n",
       "2              wide/probs_resnet_wide32_c10   6.20  0.047312  0.367806   \n",
       "3        wide/probs_resnet_wide32_c10_calib   6.05  0.010466  0.083494   \n",
       "4             densenet/probs_densenet40_c10   7.10  0.051972  0.354940   \n",
       "5       densenet/probs_densenet40_c10_calib   7.10  0.012183  0.265471   \n",
       "6             cifar/probs_resnet110_c10clip   6.57  0.049451  0.329073   \n",
       "7       cifar/probs_resnet110_c10clip_calib   6.45  0.013637  0.098281   \n",
       "8          wide/probs_resnet_wide32_c10clip   5.96  0.044857  0.315528   \n",
       "9    wide/probs_resnet_wide32_c10clip_calib   5.68  0.012156  0.186214   \n",
       "10        densenet/probs_densenet40_c10clip   6.89  0.050259  0.294821   \n",
       "11  densenet/probs_densenet40_c10clip_calib   6.94  0.010380  0.115042   \n",
       "\n",
       "        Loss  \n",
       "0   0.337077  \n",
       "1   0.259339  \n",
       "2   0.371005  \n",
       "3   0.217106  \n",
       "4   0.410250  \n",
       "5   0.281433  \n",
       "6   0.376015  \n",
       "7   0.277402  \n",
       "8   0.359691  \n",
       "9   0.232532  \n",
       "10  0.405018  \n",
       "11  0.272771  "
      ]
     },
     "execution_count": 5,
     "metadata": {},
     "output_type": "execute_result"
    }
   ],
   "source": [
    "df_iso"
   ]
  },
  {
   "cell_type": "code",
   "execution_count": 6,
   "metadata": {},
   "outputs": [
    {
     "data": {
      "text/html": [
       "<div>\n",
       "<style scoped>\n",
       "    .dataframe tbody tr th:only-of-type {\n",
       "        vertical-align: middle;\n",
       "    }\n",
       "\n",
       "    .dataframe tbody tr th {\n",
       "        vertical-align: top;\n",
       "    }\n",
       "\n",
       "    .dataframe thead th {\n",
       "        text-align: right;\n",
       "    }\n",
       "</style>\n",
       "<table border=\"1\" class=\"dataframe\">\n",
       "  <thead>\n",
       "    <tr style=\"text-align: right;\">\n",
       "      <th></th>\n",
       "      <th>Name</th>\n",
       "      <th>Error</th>\n",
       "      <th>ECE</th>\n",
       "      <th>MCE</th>\n",
       "      <th>Loss</th>\n",
       "    </tr>\n",
       "  </thead>\n",
       "  <tbody>\n",
       "    <tr>\n",
       "      <th>0</th>\n",
       "      <td>cifar/probs_resnet110_c10</td>\n",
       "      <td>6.51</td>\n",
       "      <td>0.045524</td>\n",
       "      <td>0.313617</td>\n",
       "      <td>0.337077</td>\n",
       "    </tr>\n",
       "    <tr>\n",
       "      <th>1</th>\n",
       "      <td>cifar/probs_resnet110_c10_calib</td>\n",
       "      <td>6.51</td>\n",
       "      <td>0.008471</td>\n",
       "      <td>0.100231</td>\n",
       "      <td>0.208310</td>\n",
       "    </tr>\n",
       "    <tr>\n",
       "      <th>2</th>\n",
       "      <td>wide/probs_resnet_wide32_c10</td>\n",
       "      <td>6.20</td>\n",
       "      <td>0.047312</td>\n",
       "      <td>0.367806</td>\n",
       "      <td>0.371005</td>\n",
       "    </tr>\n",
       "    <tr>\n",
       "      <th>3</th>\n",
       "      <td>wide/probs_resnet_wide32_c10_calib</td>\n",
       "      <td>6.20</td>\n",
       "      <td>0.008058</td>\n",
       "      <td>0.251238</td>\n",
       "      <td>0.186995</td>\n",
       "    </tr>\n",
       "    <tr>\n",
       "      <th>4</th>\n",
       "      <td>densenet/probs_densenet40_c10</td>\n",
       "      <td>7.10</td>\n",
       "      <td>0.051972</td>\n",
       "      <td>0.354940</td>\n",
       "      <td>0.410250</td>\n",
       "    </tr>\n",
       "    <tr>\n",
       "      <th>5</th>\n",
       "      <td>densenet/probs_densenet40_c10_calib</td>\n",
       "      <td>7.10</td>\n",
       "      <td>0.009334</td>\n",
       "      <td>0.096582</td>\n",
       "      <td>0.216684</td>\n",
       "    </tr>\n",
       "    <tr>\n",
       "      <th>6</th>\n",
       "      <td>cifar/probs_resnet110_c10clip</td>\n",
       "      <td>6.57</td>\n",
       "      <td>0.049451</td>\n",
       "      <td>0.329073</td>\n",
       "      <td>0.376015</td>\n",
       "    </tr>\n",
       "    <tr>\n",
       "      <th>7</th>\n",
       "      <td>cifar/probs_resnet110_c10clip_calib</td>\n",
       "      <td>6.57</td>\n",
       "      <td>0.009663</td>\n",
       "      <td>0.132728</td>\n",
       "      <td>0.214640</td>\n",
       "    </tr>\n",
       "    <tr>\n",
       "      <th>8</th>\n",
       "      <td>wide/probs_resnet_wide32_c10clip</td>\n",
       "      <td>5.96</td>\n",
       "      <td>0.044857</td>\n",
       "      <td>0.315528</td>\n",
       "      <td>0.359691</td>\n",
       "    </tr>\n",
       "    <tr>\n",
       "      <th>9</th>\n",
       "      <td>wide/probs_resnet_wide32_c10clip_calib</td>\n",
       "      <td>5.96</td>\n",
       "      <td>0.006065</td>\n",
       "      <td>0.242671</td>\n",
       "      <td>0.185370</td>\n",
       "    </tr>\n",
       "    <tr>\n",
       "      <th>10</th>\n",
       "      <td>densenet/probs_densenet40_c10clip</td>\n",
       "      <td>6.89</td>\n",
       "      <td>0.050259</td>\n",
       "      <td>0.294821</td>\n",
       "      <td>0.405018</td>\n",
       "    </tr>\n",
       "    <tr>\n",
       "      <th>11</th>\n",
       "      <td>densenet/probs_densenet40_c10clip_calib</td>\n",
       "      <td>6.89</td>\n",
       "      <td>0.007119</td>\n",
       "      <td>0.055351</td>\n",
       "      <td>0.209092</td>\n",
       "    </tr>\n",
       "  </tbody>\n",
       "</table>\n",
       "</div>"
      ],
      "text/plain": [
       "                                       Name  Error       ECE       MCE  \\\n",
       "0                 cifar/probs_resnet110_c10   6.51  0.045524  0.313617   \n",
       "1           cifar/probs_resnet110_c10_calib   6.51  0.008471  0.100231   \n",
       "2              wide/probs_resnet_wide32_c10   6.20  0.047312  0.367806   \n",
       "3        wide/probs_resnet_wide32_c10_calib   6.20  0.008058  0.251238   \n",
       "4             densenet/probs_densenet40_c10   7.10  0.051972  0.354940   \n",
       "5       densenet/probs_densenet40_c10_calib   7.10  0.009334  0.096582   \n",
       "6             cifar/probs_resnet110_c10clip   6.57  0.049451  0.329073   \n",
       "7       cifar/probs_resnet110_c10clip_calib   6.57  0.009663  0.132728   \n",
       "8          wide/probs_resnet_wide32_c10clip   5.96  0.044857  0.315528   \n",
       "9    wide/probs_resnet_wide32_c10clip_calib   5.96  0.006065  0.242671   \n",
       "10        densenet/probs_densenet40_c10clip   6.89  0.050259  0.294821   \n",
       "11  densenet/probs_densenet40_c10clip_calib   6.89  0.007119  0.055351   \n",
       "\n",
       "        Loss  \n",
       "0   0.337077  \n",
       "1   0.208310  \n",
       "2   0.371005  \n",
       "3   0.186995  \n",
       "4   0.410250  \n",
       "5   0.216684  \n",
       "6   0.376015  \n",
       "7   0.214640  \n",
       "8   0.359691  \n",
       "9   0.185370  \n",
       "10  0.405018  \n",
       "11  0.209092  "
      ]
     },
     "execution_count": 6,
     "metadata": {},
     "output_type": "execute_result"
    }
   ],
   "source": [
    "df_temp_scale"
   ]
  },
  {
   "cell_type": "markdown",
   "metadata": {},
   "source": [
    "## Dataframe with results "
   ]
  },
  {
   "cell_type": "code",
   "execution_count": 7,
   "metadata": {},
   "outputs": [],
   "source": [
    "dfs = [df_iso, df_temp_scale]\n",
    "names = [\"Name\", \"Uncalibrated\", \"Isotonic Regression\", \"Temperature Scaling\"]\n",
    "\n",
    "\n",
    "def get_dataframe(dfs, column, names):\n",
    "\n",
    "    df_res = pd.DataFrame(columns=names)\n",
    "\n",
    "    for i in range(1, len(df_iso), 2):\n",
    "\n",
    "        name = dfs[0].iloc[i-1][\"Name\"] # Get name of method\n",
    "        uncalibrated = dfs[0].iloc[i-1][column]  # Get uncalibrated score\n",
    "\n",
    "        row = [name, uncalibrated]  # Add scores to row\n",
    "\n",
    "        for df in dfs:\n",
    "            row.append(df.iloc[i][column])\n",
    "\n",
    "        df_res.loc[(i-1)//2] = row\n",
    "    \n",
    "    df_res.set_index('Name', inplace = True)\n",
    "        \n",
    "    return df_res"
   ]
  },
  {
   "cell_type": "code",
   "execution_count": 8,
   "metadata": {},
   "outputs": [],
   "source": [
    "df_error = get_dataframe(dfs, \"Error\", names)\n",
    "df_ece = get_dataframe(dfs, \"ECE\", names)\n",
    "df_mce = get_dataframe(dfs, \"MCE\", names)\n",
    "df_loss = get_dataframe(dfs, \"Loss\", names)"
   ]
  },
  {
   "cell_type": "markdown",
   "metadata": {},
   "source": [
    "## Scores"
   ]
  },
  {
   "cell_type": "code",
   "execution_count": 9,
   "metadata": {},
   "outputs": [],
   "source": [
    "def highlight_min(s):\n",
    "    '''\n",
    "    highlight the min in a Series yellow.\n",
    "    '''\n",
    "    is_max = s == s.min()\n",
    "    return ['background-color: yellow' if v else '' for v in is_max]"
   ]
  },
  {
   "cell_type": "markdown",
   "metadata": {},
   "source": [
    "## Error Rate"
   ]
  },
  {
   "cell_type": "code",
   "execution_count": 10,
   "metadata": {},
   "outputs": [
    {
     "data": {
      "text/html": [
       "<style  type=\"text/css\" >\n",
       "    #T_f81c5fca_6daa_11e8_9862_3c15c2e8e978row0_col1 {\n",
       "            background-color:  yellow;\n",
       "        }    #T_f81c5fca_6daa_11e8_9862_3c15c2e8e978row1_col1 {\n",
       "            background-color:  yellow;\n",
       "        }    #T_f81c5fca_6daa_11e8_9862_3c15c2e8e978row2_col0 {\n",
       "            background-color:  yellow;\n",
       "        }    #T_f81c5fca_6daa_11e8_9862_3c15c2e8e978row2_col1 {\n",
       "            background-color:  yellow;\n",
       "        }    #T_f81c5fca_6daa_11e8_9862_3c15c2e8e978row2_col2 {\n",
       "            background-color:  yellow;\n",
       "        }    #T_f81c5fca_6daa_11e8_9862_3c15c2e8e978row3_col1 {\n",
       "            background-color:  yellow;\n",
       "        }    #T_f81c5fca_6daa_11e8_9862_3c15c2e8e978row4_col1 {\n",
       "            background-color:  yellow;\n",
       "        }    #T_f81c5fca_6daa_11e8_9862_3c15c2e8e978row5_col0 {\n",
       "            background-color:  yellow;\n",
       "        }    #T_f81c5fca_6daa_11e8_9862_3c15c2e8e978row5_col2 {\n",
       "            background-color:  yellow;\n",
       "        }</style>  \n",
       "<table id=\"T_f81c5fca_6daa_11e8_9862_3c15c2e8e978\" > \n",
       "<thead>    <tr> \n",
       "        <th class=\"blank level0\" ></th> \n",
       "        <th class=\"col_heading level0 col0\" >Uncalibrated</th> \n",
       "        <th class=\"col_heading level0 col1\" >Isotonic Regression</th> \n",
       "        <th class=\"col_heading level0 col2\" >Temperature Scaling</th> \n",
       "    </tr>    <tr> \n",
       "        <th class=\"index_name level0\" >Name</th> \n",
       "        <th class=\"blank\" ></th> \n",
       "        <th class=\"blank\" ></th> \n",
       "        <th class=\"blank\" ></th> \n",
       "    </tr></thead> \n",
       "<tbody>    <tr> \n",
       "        <th id=\"T_f81c5fca_6daa_11e8_9862_3c15c2e8e978level0_row0\" class=\"row_heading level0 row0\" >cifar/probs_resnet110_c10</th> \n",
       "        <td id=\"T_f81c5fca_6daa_11e8_9862_3c15c2e8e978row0_col0\" class=\"data row0 col0\" >6.51</td> \n",
       "        <td id=\"T_f81c5fca_6daa_11e8_9862_3c15c2e8e978row0_col1\" class=\"data row0 col1\" >6.41</td> \n",
       "        <td id=\"T_f81c5fca_6daa_11e8_9862_3c15c2e8e978row0_col2\" class=\"data row0 col2\" >6.51</td> \n",
       "    </tr>    <tr> \n",
       "        <th id=\"T_f81c5fca_6daa_11e8_9862_3c15c2e8e978level0_row1\" class=\"row_heading level0 row1\" >wide/probs_resnet_wide32_c10</th> \n",
       "        <td id=\"T_f81c5fca_6daa_11e8_9862_3c15c2e8e978row1_col0\" class=\"data row1 col0\" >6.2</td> \n",
       "        <td id=\"T_f81c5fca_6daa_11e8_9862_3c15c2e8e978row1_col1\" class=\"data row1 col1\" >6.05</td> \n",
       "        <td id=\"T_f81c5fca_6daa_11e8_9862_3c15c2e8e978row1_col2\" class=\"data row1 col2\" >6.2</td> \n",
       "    </tr>    <tr> \n",
       "        <th id=\"T_f81c5fca_6daa_11e8_9862_3c15c2e8e978level0_row2\" class=\"row_heading level0 row2\" >densenet/probs_densenet40_c10</th> \n",
       "        <td id=\"T_f81c5fca_6daa_11e8_9862_3c15c2e8e978row2_col0\" class=\"data row2 col0\" >7.1</td> \n",
       "        <td id=\"T_f81c5fca_6daa_11e8_9862_3c15c2e8e978row2_col1\" class=\"data row2 col1\" >7.1</td> \n",
       "        <td id=\"T_f81c5fca_6daa_11e8_9862_3c15c2e8e978row2_col2\" class=\"data row2 col2\" >7.1</td> \n",
       "    </tr>    <tr> \n",
       "        <th id=\"T_f81c5fca_6daa_11e8_9862_3c15c2e8e978level0_row3\" class=\"row_heading level0 row3\" >cifar/probs_resnet110_c10clip</th> \n",
       "        <td id=\"T_f81c5fca_6daa_11e8_9862_3c15c2e8e978row3_col0\" class=\"data row3 col0\" >6.57</td> \n",
       "        <td id=\"T_f81c5fca_6daa_11e8_9862_3c15c2e8e978row3_col1\" class=\"data row3 col1\" >6.45</td> \n",
       "        <td id=\"T_f81c5fca_6daa_11e8_9862_3c15c2e8e978row3_col2\" class=\"data row3 col2\" >6.57</td> \n",
       "    </tr>    <tr> \n",
       "        <th id=\"T_f81c5fca_6daa_11e8_9862_3c15c2e8e978level0_row4\" class=\"row_heading level0 row4\" >wide/probs_resnet_wide32_c10clip</th> \n",
       "        <td id=\"T_f81c5fca_6daa_11e8_9862_3c15c2e8e978row4_col0\" class=\"data row4 col0\" >5.96</td> \n",
       "        <td id=\"T_f81c5fca_6daa_11e8_9862_3c15c2e8e978row4_col1\" class=\"data row4 col1\" >5.68</td> \n",
       "        <td id=\"T_f81c5fca_6daa_11e8_9862_3c15c2e8e978row4_col2\" class=\"data row4 col2\" >5.96</td> \n",
       "    </tr>    <tr> \n",
       "        <th id=\"T_f81c5fca_6daa_11e8_9862_3c15c2e8e978level0_row5\" class=\"row_heading level0 row5\" >densenet/probs_densenet40_c10clip</th> \n",
       "        <td id=\"T_f81c5fca_6daa_11e8_9862_3c15c2e8e978row5_col0\" class=\"data row5 col0\" >6.89</td> \n",
       "        <td id=\"T_f81c5fca_6daa_11e8_9862_3c15c2e8e978row5_col1\" class=\"data row5 col1\" >6.94</td> \n",
       "        <td id=\"T_f81c5fca_6daa_11e8_9862_3c15c2e8e978row5_col2\" class=\"data row5 col2\" >6.89</td> \n",
       "    </tr></tbody> \n",
       "</table> "
      ],
      "text/plain": [
       "<pandas.io.formats.style.Styler at 0x1a1e83a810>"
      ]
     },
     "execution_count": 10,
     "metadata": {},
     "output_type": "execute_result"
    }
   ],
   "source": [
    "df_error.style.apply(highlight_min, axis = 1)"
   ]
  },
  {
   "cell_type": "markdown",
   "metadata": {},
   "source": [
    "## ECE"
   ]
  },
  {
   "cell_type": "code",
   "execution_count": 11,
   "metadata": {},
   "outputs": [
    {
     "data": {
      "text/html": [
       "<style  type=\"text/css\" >\n",
       "    #T_f825ca91_6daa_11e8_a9fe_3c15c2e8e978row0_col2 {\n",
       "            background-color:  yellow;\n",
       "        }    #T_f825ca91_6daa_11e8_a9fe_3c15c2e8e978row1_col2 {\n",
       "            background-color:  yellow;\n",
       "        }    #T_f825ca91_6daa_11e8_a9fe_3c15c2e8e978row2_col2 {\n",
       "            background-color:  yellow;\n",
       "        }    #T_f825ca91_6daa_11e8_a9fe_3c15c2e8e978row3_col2 {\n",
       "            background-color:  yellow;\n",
       "        }    #T_f825ca91_6daa_11e8_a9fe_3c15c2e8e978row4_col2 {\n",
       "            background-color:  yellow;\n",
       "        }    #T_f825ca91_6daa_11e8_a9fe_3c15c2e8e978row5_col2 {\n",
       "            background-color:  yellow;\n",
       "        }</style>  \n",
       "<table id=\"T_f825ca91_6daa_11e8_a9fe_3c15c2e8e978\" > \n",
       "<thead>    <tr> \n",
       "        <th class=\"blank level0\" ></th> \n",
       "        <th class=\"col_heading level0 col0\" >Uncalibrated</th> \n",
       "        <th class=\"col_heading level0 col1\" >Isotonic Regression</th> \n",
       "        <th class=\"col_heading level0 col2\" >Temperature Scaling</th> \n",
       "    </tr>    <tr> \n",
       "        <th class=\"index_name level0\" >Name</th> \n",
       "        <th class=\"blank\" ></th> \n",
       "        <th class=\"blank\" ></th> \n",
       "        <th class=\"blank\" ></th> \n",
       "    </tr></thead> \n",
       "<tbody>    <tr> \n",
       "        <th id=\"T_f825ca91_6daa_11e8_a9fe_3c15c2e8e978level0_row0\" class=\"row_heading level0 row0\" >cifar/probs_resnet110_c10</th> \n",
       "        <td id=\"T_f825ca91_6daa_11e8_a9fe_3c15c2e8e978row0_col0\" class=\"data row0 col0\" >0.0455243</td> \n",
       "        <td id=\"T_f825ca91_6daa_11e8_a9fe_3c15c2e8e978row0_col1\" class=\"data row0 col1\" >0.0121544</td> \n",
       "        <td id=\"T_f825ca91_6daa_11e8_a9fe_3c15c2e8e978row0_col2\" class=\"data row0 col2\" >0.00847066</td> \n",
       "    </tr>    <tr> \n",
       "        <th id=\"T_f825ca91_6daa_11e8_a9fe_3c15c2e8e978level0_row1\" class=\"row_heading level0 row1\" >wide/probs_resnet_wide32_c10</th> \n",
       "        <td id=\"T_f825ca91_6daa_11e8_a9fe_3c15c2e8e978row1_col0\" class=\"data row1 col0\" >0.0473118</td> \n",
       "        <td id=\"T_f825ca91_6daa_11e8_a9fe_3c15c2e8e978row1_col1\" class=\"data row1 col1\" >0.0104662</td> \n",
       "        <td id=\"T_f825ca91_6daa_11e8_a9fe_3c15c2e8e978row1_col2\" class=\"data row1 col2\" >0.00805839</td> \n",
       "    </tr>    <tr> \n",
       "        <th id=\"T_f825ca91_6daa_11e8_a9fe_3c15c2e8e978level0_row2\" class=\"row_heading level0 row2\" >densenet/probs_densenet40_c10</th> \n",
       "        <td id=\"T_f825ca91_6daa_11e8_a9fe_3c15c2e8e978row2_col0\" class=\"data row2 col0\" >0.0519722</td> \n",
       "        <td id=\"T_f825ca91_6daa_11e8_a9fe_3c15c2e8e978row2_col1\" class=\"data row2 col1\" >0.0121829</td> \n",
       "        <td id=\"T_f825ca91_6daa_11e8_a9fe_3c15c2e8e978row2_col2\" class=\"data row2 col2\" >0.00933419</td> \n",
       "    </tr>    <tr> \n",
       "        <th id=\"T_f825ca91_6daa_11e8_a9fe_3c15c2e8e978level0_row3\" class=\"row_heading level0 row3\" >cifar/probs_resnet110_c10clip</th> \n",
       "        <td id=\"T_f825ca91_6daa_11e8_a9fe_3c15c2e8e978row3_col0\" class=\"data row3 col0\" >0.0494511</td> \n",
       "        <td id=\"T_f825ca91_6daa_11e8_a9fe_3c15c2e8e978row3_col1\" class=\"data row3 col1\" >0.0136369</td> \n",
       "        <td id=\"T_f825ca91_6daa_11e8_a9fe_3c15c2e8e978row3_col2\" class=\"data row3 col2\" >0.00966252</td> \n",
       "    </tr>    <tr> \n",
       "        <th id=\"T_f825ca91_6daa_11e8_a9fe_3c15c2e8e978level0_row4\" class=\"row_heading level0 row4\" >wide/probs_resnet_wide32_c10clip</th> \n",
       "        <td id=\"T_f825ca91_6daa_11e8_a9fe_3c15c2e8e978row4_col0\" class=\"data row4 col0\" >0.0448566</td> \n",
       "        <td id=\"T_f825ca91_6daa_11e8_a9fe_3c15c2e8e978row4_col1\" class=\"data row4 col1\" >0.0121559</td> \n",
       "        <td id=\"T_f825ca91_6daa_11e8_a9fe_3c15c2e8e978row4_col2\" class=\"data row4 col2\" >0.00606529</td> \n",
       "    </tr>    <tr> \n",
       "        <th id=\"T_f825ca91_6daa_11e8_a9fe_3c15c2e8e978level0_row5\" class=\"row_heading level0 row5\" >densenet/probs_densenet40_c10clip</th> \n",
       "        <td id=\"T_f825ca91_6daa_11e8_a9fe_3c15c2e8e978row5_col0\" class=\"data row5 col0\" >0.0502588</td> \n",
       "        <td id=\"T_f825ca91_6daa_11e8_a9fe_3c15c2e8e978row5_col1\" class=\"data row5 col1\" >0.0103795</td> \n",
       "        <td id=\"T_f825ca91_6daa_11e8_a9fe_3c15c2e8e978row5_col2\" class=\"data row5 col2\" >0.00711893</td> \n",
       "    </tr></tbody> \n",
       "</table> "
      ],
      "text/plain": [
       "<pandas.io.formats.style.Styler at 0x1a1f3837d0>"
      ]
     },
     "execution_count": 11,
     "metadata": {},
     "output_type": "execute_result"
    }
   ],
   "source": [
    "df_ece.style.apply(highlight_min, axis = 1)"
   ]
  },
  {
   "cell_type": "markdown",
   "metadata": {},
   "source": [
    "## MCE"
   ]
  },
  {
   "cell_type": "code",
   "execution_count": 12,
   "metadata": {},
   "outputs": [
    {
     "data": {
      "text/html": [
       "<style  type=\"text/css\" >\n",
       "    #T_f82d1d7d_6daa_11e8_967a_3c15c2e8e978row0_col2 {\n",
       "            background-color:  yellow;\n",
       "        }    #T_f82d1d7d_6daa_11e8_967a_3c15c2e8e978row1_col1 {\n",
       "            background-color:  yellow;\n",
       "        }    #T_f82d1d7d_6daa_11e8_967a_3c15c2e8e978row2_col2 {\n",
       "            background-color:  yellow;\n",
       "        }    #T_f82d1d7d_6daa_11e8_967a_3c15c2e8e978row3_col1 {\n",
       "            background-color:  yellow;\n",
       "        }    #T_f82d1d7d_6daa_11e8_967a_3c15c2e8e978row4_col1 {\n",
       "            background-color:  yellow;\n",
       "        }    #T_f82d1d7d_6daa_11e8_967a_3c15c2e8e978row5_col2 {\n",
       "            background-color:  yellow;\n",
       "        }</style>  \n",
       "<table id=\"T_f82d1d7d_6daa_11e8_967a_3c15c2e8e978\" > \n",
       "<thead>    <tr> \n",
       "        <th class=\"blank level0\" ></th> \n",
       "        <th class=\"col_heading level0 col0\" >Uncalibrated</th> \n",
       "        <th class=\"col_heading level0 col1\" >Isotonic Regression</th> \n",
       "        <th class=\"col_heading level0 col2\" >Temperature Scaling</th> \n",
       "    </tr>    <tr> \n",
       "        <th class=\"index_name level0\" >Name</th> \n",
       "        <th class=\"blank\" ></th> \n",
       "        <th class=\"blank\" ></th> \n",
       "        <th class=\"blank\" ></th> \n",
       "    </tr></thead> \n",
       "<tbody>    <tr> \n",
       "        <th id=\"T_f82d1d7d_6daa_11e8_967a_3c15c2e8e978level0_row0\" class=\"row_heading level0 row0\" >cifar/probs_resnet110_c10</th> \n",
       "        <td id=\"T_f82d1d7d_6daa_11e8_967a_3c15c2e8e978row0_col0\" class=\"data row0 col0\" >0.313617</td> \n",
       "        <td id=\"T_f82d1d7d_6daa_11e8_967a_3c15c2e8e978row0_col1\" class=\"data row0 col1\" >0.269047</td> \n",
       "        <td id=\"T_f82d1d7d_6daa_11e8_967a_3c15c2e8e978row0_col2\" class=\"data row0 col2\" >0.100231</td> \n",
       "    </tr>    <tr> \n",
       "        <th id=\"T_f82d1d7d_6daa_11e8_967a_3c15c2e8e978level0_row1\" class=\"row_heading level0 row1\" >wide/probs_resnet_wide32_c10</th> \n",
       "        <td id=\"T_f82d1d7d_6daa_11e8_967a_3c15c2e8e978row1_col0\" class=\"data row1 col0\" >0.367806</td> \n",
       "        <td id=\"T_f82d1d7d_6daa_11e8_967a_3c15c2e8e978row1_col1\" class=\"data row1 col1\" >0.0834937</td> \n",
       "        <td id=\"T_f82d1d7d_6daa_11e8_967a_3c15c2e8e978row1_col2\" class=\"data row1 col2\" >0.251238</td> \n",
       "    </tr>    <tr> \n",
       "        <th id=\"T_f82d1d7d_6daa_11e8_967a_3c15c2e8e978level0_row2\" class=\"row_heading level0 row2\" >densenet/probs_densenet40_c10</th> \n",
       "        <td id=\"T_f82d1d7d_6daa_11e8_967a_3c15c2e8e978row2_col0\" class=\"data row2 col0\" >0.35494</td> \n",
       "        <td id=\"T_f82d1d7d_6daa_11e8_967a_3c15c2e8e978row2_col1\" class=\"data row2 col1\" >0.265471</td> \n",
       "        <td id=\"T_f82d1d7d_6daa_11e8_967a_3c15c2e8e978row2_col2\" class=\"data row2 col2\" >0.096582</td> \n",
       "    </tr>    <tr> \n",
       "        <th id=\"T_f82d1d7d_6daa_11e8_967a_3c15c2e8e978level0_row3\" class=\"row_heading level0 row3\" >cifar/probs_resnet110_c10clip</th> \n",
       "        <td id=\"T_f82d1d7d_6daa_11e8_967a_3c15c2e8e978row3_col0\" class=\"data row3 col0\" >0.329073</td> \n",
       "        <td id=\"T_f82d1d7d_6daa_11e8_967a_3c15c2e8e978row3_col1\" class=\"data row3 col1\" >0.0982814</td> \n",
       "        <td id=\"T_f82d1d7d_6daa_11e8_967a_3c15c2e8e978row3_col2\" class=\"data row3 col2\" >0.132728</td> \n",
       "    </tr>    <tr> \n",
       "        <th id=\"T_f82d1d7d_6daa_11e8_967a_3c15c2e8e978level0_row4\" class=\"row_heading level0 row4\" >wide/probs_resnet_wide32_c10clip</th> \n",
       "        <td id=\"T_f82d1d7d_6daa_11e8_967a_3c15c2e8e978row4_col0\" class=\"data row4 col0\" >0.315528</td> \n",
       "        <td id=\"T_f82d1d7d_6daa_11e8_967a_3c15c2e8e978row4_col1\" class=\"data row4 col1\" >0.186214</td> \n",
       "        <td id=\"T_f82d1d7d_6daa_11e8_967a_3c15c2e8e978row4_col2\" class=\"data row4 col2\" >0.242671</td> \n",
       "    </tr>    <tr> \n",
       "        <th id=\"T_f82d1d7d_6daa_11e8_967a_3c15c2e8e978level0_row5\" class=\"row_heading level0 row5\" >densenet/probs_densenet40_c10clip</th> \n",
       "        <td id=\"T_f82d1d7d_6daa_11e8_967a_3c15c2e8e978row5_col0\" class=\"data row5 col0\" >0.294821</td> \n",
       "        <td id=\"T_f82d1d7d_6daa_11e8_967a_3c15c2e8e978row5_col1\" class=\"data row5 col1\" >0.115042</td> \n",
       "        <td id=\"T_f82d1d7d_6daa_11e8_967a_3c15c2e8e978row5_col2\" class=\"data row5 col2\" >0.0553514</td> \n",
       "    </tr></tbody> \n",
       "</table> "
      ],
      "text/plain": [
       "<pandas.io.formats.style.Styler at 0x1a1f383a90>"
      ]
     },
     "execution_count": 12,
     "metadata": {},
     "output_type": "execute_result"
    }
   ],
   "source": [
    "df_mce.style.apply(highlight_min, axis = 1)"
   ]
  },
  {
   "cell_type": "markdown",
   "metadata": {},
   "source": [
    "## Loss"
   ]
  },
  {
   "cell_type": "code",
   "execution_count": null,
   "metadata": {},
   "outputs": [],
   "source": [
    "df_loss.style.apply(highlight_min, axis = 1)"
   ]
  },
  {
   "cell_type": "code",
   "execution_count": null,
   "metadata": {},
   "outputs": [],
   "source": []
  }
 ],
 "metadata": {
  "kernelspec": {
   "display_name": "Python 2",
   "language": "python",
   "name": "python2"
  },
  "language_info": {
   "codemirror_mode": {
    "name": "ipython",
    "version": 2
   },
   "file_extension": ".py",
   "mimetype": "text/x-python",
   "name": "python",
   "nbconvert_exporter": "python",
   "pygments_lexer": "ipython2",
   "version": "2.7.15"
  }
 },
 "nbformat": 4,
 "nbformat_minor": 2
}
